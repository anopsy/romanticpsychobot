{
  "nbformat": 4,
  "nbformat_minor": 0,
  "metadata": {
    "colab": {
      "provenance": [],
      "authorship_tag": "ABX9TyONraVoMjN7Jo8UnNfGXCh/",
      "include_colab_link": true
    },
    "kernelspec": {
      "name": "python3",
      "display_name": "Python 3"
    },
    "language_info": {
      "name": "python"
    }
  },
  "cells": [
    {
      "cell_type": "markdown",
      "metadata": {
        "id": "view-in-github",
        "colab_type": "text"
      },
      "source": [
        "<a href=\"https://colab.research.google.com/github/anopsy/romanticpsychobot/blob/main/RomanticPsychoBot.ipynb\" target=\"_parent\"><img src=\"https://colab.research.google.com/assets/colab-badge.svg\" alt=\"Open In Colab\"/></a>"
      ]
    },
    {
      "cell_type": "code",
      "execution_count": null,
      "metadata": {
        "id": "9pg5vkmj7WcP"
      },
      "outputs": [],
      "source": [
        "import tensorflow as tf\n",
        "import numpy as np \n",
        "\n",
        "from tensorflow.keras.preprocessing.sequence import pad_sequences\n",
        "from tensorflow.keras.layers import Embedding, LSTM, Dense, Bidirectional\n",
        "from tensorflow.keras.preprocessing.text import Tokenizer\n",
        "from tensorflow.keras.models import Sequential\n",
        "from tensorflow.keras.optimizers import Adam"
      ]
    },
    {
      "cell_type": "code",
      "source": [
        "# Download the dataset\n",
        "!wget https://raw.githubusercontent.com/anopsy/romanticpsychobot/main/romanticpsychobot.txt"
      ],
      "metadata": {
        "colab": {
          "base_uri": "https://localhost:8080/"
        },
        "id": "vmv2ZW2m74k6",
        "outputId": "500a35a4-77bb-4118-c7f1-d0a0f0743b9c"
      },
      "execution_count": null,
      "outputs": [
        {
          "output_type": "stream",
          "name": "stdout",
          "text": [
            "--2022-10-14 14:42:56--  https://raw.githubusercontent.com/anopsy/romanticpsychobot/main/romanticpsychobot.txt\n",
            "Resolving raw.githubusercontent.com (raw.githubusercontent.com)... 185.199.109.133, 185.199.111.133, 185.199.110.133, ...\n",
            "Connecting to raw.githubusercontent.com (raw.githubusercontent.com)|185.199.109.133|:443... connected.\n",
            "HTTP request sent, awaiting response... 200 OK\n",
            "Length: 23493 (23K) [text/plain]\n",
            "Saving to: ‘romanticpsychobot.txt’\n",
            "\n",
            "\rromanticpsychobot.t   0%[                    ]       0  --.-KB/s               \rromanticpsychobot.t 100%[===================>]  22.94K  --.-KB/s    in 0s      \n",
            "\n",
            "2022-10-14 14:42:57 (44.9 MB/s) - ‘romanticpsychobot.txt’ saved [23493/23493]\n",
            "\n"
          ]
        }
      ]
    },
    {
      "cell_type": "code",
      "source": [
        "# Load the dataset\n",
        "data = open('./romanticpsychobot.txt').read()\n",
        "\n",
        "# Lowercase and split the text\n",
        "corpus = data.lower().split(\"\\n\")\n",
        "\n",
        "# Preview the result\n",
        "print(corpus)"
      ],
      "metadata": {
        "colab": {
          "base_uri": "https://localhost:8080/"
        },
        "id": "KiKwj8E3760W",
        "outputId": "4621b4fb-11e7-4449-8a12-2dbaa37e4fa2"
      },
      "execution_count": null,
      "outputs": [
        {
          "output_type": "stream",
          "name": "stdout",
          "text": [
            "['brzydkie myśli ładne domy  ', 'jestem superbohaterem  to nie marvel comics  ', 'bit jest nawiedzony jak ten las w japonii  ', 'ej mam siłę sprawcze w dłoni  magiczne mikrofony  ', 'przewidziałem diament somy i nową reklamę coli  ', 'siedzę i przeglądam twoje życie jak się staje moim  ', 'stop  ', 'dawno przeszedłem cyberpunk  ', 'dla mnie oldschool to atomowy powerbank  ', 'wiem że nie zginę więc dla ciebie nadstawię kark  ', 'za wszystkie inne rzeczy zapłacimy mastercard  ', 'nowa visa  ', 'serio jestem kurwa czarodziejem  ', 'wczoraj rapowałem moje instastory  ', 'skoro to co nawinę się zaraz dzieje  ', 'niech przestaną płonąć lasy w amazonii okej  ', 'niech się skończy głód zaraza i ubóstwo  ', 'przywrócę do życia jacquesa cousteau  ', 'albo paca albo whitney houston  ', 'żebyś pokazała jej jak śpiewać półton  ', 'nie chce wstydzić się jak ci co patrzą w lustro  ', 'i wolę pusty fotel niż twarz pustą  ', 'nie dać się omamić bałamutnym ustom  ', 'niech inne będą głodem a ty dziką ucztą okej  ', 'mój nowy kolor włosów pasuje do twoich oczu  ', 'nie do zazdrości typów co chcieliby też to poczuć  ', 'ich twarze są zielone gdy jedzie biały samochód  ', 'czerwony samochód kilku kolegów włochów  ', 'wytłumaczyło mi to co oznacza con calma  ', 'nie ma chemii w powietrzu bo cała jest w pokarmach  ', 'dzieciakom nocą spływa jakieś piekło do gardła  ', 'po którym jutro będą czuły głód jak somalia  ', 'a ja  ', 'zmęczyłem się patrzeniem wstecz  ', 'dawno widziałem już 2035  ', 'gram na playstation 6 i nie wiem który to rok  ', 'ale śpiewam na słuchawkach nadal  filip to fałszywy prorok ', 'skończyłem trasę eko chciałem tylko wieczny detoks', 'śmierdzieliśmy groszem wszędzie ten przeklęty fetor', 'każdy machał łapą w górze jak maneki-neko', 'i poczułem szczęście wreszcie to jak leczy mnie to miód i mleko', 'z moim przyjacielem za fuzję', 'po której mamy grubsze portfele no i żaluzje', 'teksty odłożyłem na później miałem kontuzję', 'a serca łamałem tak że mógłbym z nich układać puzzle', 'aż nie zakochałem się w dziewczynie z popu   aha   ', 'była płomieniem a ja beczką prochu   aha   ', 'widziałem gwiazdy bez teleskopu', 'ale rady na tej autostradzie miały znaki stopu', 'byłem gotów żeby zmyła ze mnie smutek', 'choć pochodziła z branży w której każdy rzeźbi tępym dłutem', 'w której żeby sprzedać płytę trzeba sprzedać dupę', 'a jeśli masz farcik to wystarczy ci pokazać sutek', 'ja z branży która umie wszystko łatwo jebać', 'sprzedałem więcej płyt niż sheeran nie potrafiąc śpiewać', 'wow  chodzę po niebie jak ten młody jedi', 'mamy całą scenę w ledach świeci jak jebane vegas', 'skończyli mnie kochać jak skończyłem ostatni nielegal', 'czuję się jak ronald reagan sława jest jak słony cheddar', 'to było jak pigułka somy', 'moja mama mówiła  jesteś rozbisurmaniony', 'i nawet małe rzeczy z nią wyglądały jak cuda', 'moja niania mówiła       ', 'ty nie miałeś niani kuba', 'no tak nie wiem wiele o opiece', 'ale znam miejsca do których będziemy długo lecieć', 'ten jej słodki uśmieszek tak jak dulce de leche', 'ej nie chcę nigdy budzić się w tym rutynowym świecie', 'gdzie kurier przywozi dietę kumpel przynosi becel', 'łzy kapią na mój sweter muszę wrócić z bukietem a co co', 'jeżeli większą uciechę niż to co mówię', 'sprawia im to jak się uczeszę', 'jej dłonie są takie ciepłe', 'spalam się jakbym trenował przed piekłem', 'tak coś sobie w końcu przyrzekłem', 'nie mogę odejść jest za dużo rzeczy które są piękne', 'bo jest najgorszy więc musimy się trzymać za rączki', 'ludzie wokół są smutni jak w rosji', 'nienawidzę warszawy i nie chodzę sam do lekarzy nie jestem dorosły', 'może jakoś to przejdzie do wiosny', 'czytam wasze pojebane posty', 'tyle toksyn w sobie macie chłopcy', 'to gorsze niż ta czarna kawa i tosty', 'szczeniaku  życie to nie jest wall street', 'wydałem ten twój łańcuch na książki', 'gdyby nastrój zależał od forsy nie czułbym się źle ale czuję się źle', 'także jebać pieniążki nawet cukier potrafi być gorzki', 'jebać wasze prezenty i wstążki  pewnie bym zdechł  gdybym łykał te krążki', 'bo jest najgorszy  ból jest przy głowie tak jak odrosty', 'obrosłem za bardzo  wypadł mi włos pokryty białą farbą', 'mój ojciec tylko ojca grał jak brando', 'myślałem  że dawno za mną to szambo', 'ale chyba nie  chyba jest źle', 'szczęśliwe rodziny ryją mi łeb  patrzę głodny na malowany chleb', 'na przemian wraca tęsknota i gniew  tylko jej oczy działają jak lek', 'biorę dawki podwójne  mogę łykać je tak jak komunie', 'nawet nie pytaj teraz co u mnie', 'ja nic nie rozumiem  w butach na koturnie', 'nadchodzi smutek  żebym lepiej słyszał', 'nie wiem o czym mam rapować i pisać', 'linie są proste tak jak linia życia', 'zazwyczaj kiedy się przedawkuje - szpital', 'nie płaczę po notre dame  w radiu leci tout va bien', 'czuję się jak orelsan', 'jetlag to mój nowy drag i jestem naćpany tak', 'nie wiem  czego wciąż mi brak', 'co tak cenne jest i', 'czego mogę chcieć i lamborghini  jetski', 'popatrz w moje oczy piwne jak oktoberfest', 'i powiedz  za czym tęsknisz  avignon i brest', 'i w tle te lawendowe pola', \"chcę jeszcze trochę słońca  zanim trafię na de gaulle'a\", 'rok spędziłem w samolotach  pociągach i na promach', 'myślę o twoich dłoniach  palcach na moich skroniach', 'lazur  piasek  ja i ona  życiem pijani na skałce', 'i odsłonięte ramiona  jej głowa na mojej klatce', 'usta jak pain au chocolat  mógłbym ciągle na nie patrzeć', 'lepiej weź już szczędź ten morał  bo ja nie żyję jak w bajce  nie', 'płakałem  jak miałem trzy pogrzeby w tydzień', 'nie znasz życia  które znam', 'znasz tylko to  które ci pozwalam widzieć', 'bez sumienia  które gryzie  bez uczuć  które żywię', 'bez rany  którą liżę  bez rzeczy  których wstydzę', 'bez tego reisefieber  bez quebonafide', 'bez grzechów  które popełniłem w hotelowym wyrze', 'nie płaczę po notre dame  stary  szczerze', 'łzę uroniłem może po mac millerze', 'a jak zawiodłem kolegę i jak braciak poszedł siedzieć', 'to leżałem na podłodze i skamlałem tak jak zwierzę', 'nie płaczę po notre dame  wariacie', 'płaczę z miłości  bezsilności i po stracie', 'płaczę  kiedy tracę rozum znowu uwięziony w chacie', 'to jak pierdolony dozór  mam na morzu burzę  bracie', 'ale ciszę w komnacie  także nie zobaczysz mnie', 'z mokrymi polikami lepiącymi się od łez', 'mówiłem  kocham  w życiu te pięć razy  może mniej', 'ona działa jak ecstasy  więc jest pewnie trochę lżej', 'szubienica  pestycydy  broń', 'dobry losie  weź mnie przed tym chroń', 'chcę tylko mieć w\\u2005dłoni\\u2005twoją dłoń', 'parapapa  parapapapapa', 'przecież\\u2005życie piękne jest jak wrocław', 'jak moja\\u2005dama  mama  no i siostra', 'może w sumie nie tak źle\\u205ftu\\u205fzostać', 'parapapa \\u205fparapapapapa', 'muszę wyłączyć się\\u205fi wyjść na\\u205frower albo jogę', 'głupie myśli w głowie  leci cobain i night lovell', 'zerwałem stare kwiaty  czemu nie wyrosły nowe ', 'kiedy umrę chcę  żeby wygłosił mowę ktoś taki jak marcin flint', 'aksamitnym głosem', 'niech mówi z pasją w tym  jak ten mały  dziwny poseł', 'nieszczepione psy chcą mnie zagryźć  ale proszę', 'nadal niosę swój krzyż  tak jak zła kostucha kosę', 'chociaż siedzę sam pijany  no i gapię się na ścianę', 'myśląc czym jest mrok   czym jest mrok    ', 'czego chce ode mnie żulczyk ', 'czemu nastrój samobójczy mam jak mariusz jop    mariusz jop   ', 'paparazzi pod poduszką  a mam niezasłane łóżko', 'ciągle czuję wzrok   czuję wzrok   ', 'co przyniesie nowy rok  moja dziewczyna śpiewa pop', 'lala', 'słowo  sukces  sprawia  że chciałby cię zabić każdy', 'raperzy rozumiem  ale kurwa  fabijański !', 'idę sobie biegać pięknym świtem nadwiślańskim', 'nie mogę przejmować się tym co gadają błazny', 'w moim filmie  bracie  to nie hajs gra rolę', 'gdybym się urodził z tak zamkniętą głową', 'pewnie raczej też chciałbym zostać aktorem', 'tylko po to  by jak najrzadziej być sobą  słowo', 'szok  z rapera w gwiazdę pop w rok', 'moja dziewczyna jest z popu i ja też już jestem pop', 'szok  z rapera w gwiazdę pop w rok', 'moja dziewczyna jest z popu i ja też już jestem pop', 'szok  z rapera w gwiazdę pop w rok', 'i moi koledzy są z popu i ja też już jestem pop', 'w rok  szok  z rapera w gwiazdę pop  joł', 'chcę ją zarazić rapem  nauczyć blonde na pamięć', 'czekam  aż szepnie zdanie   tęsknię za starym kanye  \\u2005ej', 'chcę\\u2005ją zarazić rapem\\u2005  chcę ją zarazić rapem    ', 'nauczyć blonde na pamięć   ', 'czekam  aż szepnie zdanie  ', 'tęsknię za starym kanye ', 'na razie  na razie   ', 'na razie w drugim pokoju śpiewa cover ariany', 'odkąd się dowiedziałem  że mac odszedł naćpany', 'wszędzie widzę doktorów tak jak bugs bunny', 'nawet nie wychodzę z domu  przeraża mnie strach  stary', 'lęki to jest to  czego najbardziej się boję', 'od roku nie nagrywam  a co dzień nowe przeboje', 'tłumaczę jej  co to jest punchline  kto to bedoes', 'i dlaczego lil pump ma beef z j   colem    z kim      moment', 'nawet nie wiem  w której chwili', 'przyłapałem ją  jak słucha fugees  killing ', 'później leciał drake  później eminem i hova', 'do j   dilli coraz krótsza droga', 'jestem po prostu złym typem - nie  że jakiś bad boy', 'mam ochotę wpaść do faktu  zrobić charlie hebdo', 'moi ludzie lepią haszysz jak pieprzone play-doh', 'dzwoń do mojej damy  jak chcesz reklamować avon  ej joł', 'ja do tego nie mam nic', 'i tak jest bardziej na rapie już niż ten rap dziś', 'patrzę w lustro zastanawiając się  gdzie ja w tym', 'piękne buźki chciałyby móc z nami jeść  spać  pić', 'wolę siedzieć w chacie  słuchać sobie jid', 'nie straciłem twarzy  poznaje mnie faceid', 'chociaż flesze świecą jak neony texas street', 'otoczony z każdej strony tak jak tel awiw', \"c'est la vie  yo\", 'tęsknię za tokio świecącym jak neon', 'za tel awiwem białym jak welon', 'za nowym jorkiem deszczowym jak      ', 'w\\u2005sumie\\u2005wróciłem dopiero', 'za brudną\\u2005antananarywą', 'choć chcieli oszukać nas na paliwo', 'tęsknię\\u2005za pizzą w weronie i pizą', 'i na pewno wiesz czemu tęsknię za rygą', 'za nocnym santiago i limą', 'za jazdą na stopa pustynią', 'w tamtej toyocie tęskniłem za klimą', 'ten silnik był głośny jak dziewczyny z rio', 'za jazdą skuterem przez wietnam', 'tą pierdoloną zatłoczoną drogą', 'w każdym z tych miejsc zabawa była świetna', 'ale jeszcze bardziej      ', 'tęskniłem za tobą  nie kłamię jak zły', 'że dałbym się pociąć  ale przyjmę kulkę w moim bubble tea', 'tęskniłem za tobą  nostalgia to błysk', 'do którego nocą latają ochoczo takie ćmy jak my', 'tęsknię za stertą rozrzuconych koszul', 'za rapowaniem do utraty głosu', 'spaniem do piątej  graniem od piątej', 'i za beztroskim oglądaniem pornosów', 'tęsknię za zamkiem  freestylem na błoniu', 'za jointem na klatce  uciekaniem z domu', 'może mniej za tym  jak portfel był pusty', 'musiałem się napocić tak jak bruce lee', 'za placem kościuszki sprzedawaniem gazet', 'za pierwszą gażą odebraną w zpavie', 'za derbami w mławie  łyżką cukru w kawie', 'za ciechanem w pubie', 'za węglowodanami i plackami z hita', 'wtedy nikt z nas jeszcze nie żył jak robot', 'tęsknię do tego gówniarskiego życia', 'ale chyba jednak wolę to na zdrowo', 'za smarki smarkiem  no bo młoda foka', 'musiała mi się kiedyś znudzić w końcu', 'tęsknię za poprzednim logo reeboka', 'nowe wygląda jak dla crossfitowców', 'tęsknię też za ligą plus bo bez smoka', 'ten program już nie wygląda tak samo', 'za szóstą odsłoną pro evo soccer', 'jezu  ale tam strzelałem adriano', 'za głową pomalowaną na biało', 'do tego w sumie zawsze mogę wrócić', 'za podzielonym na cztery ekranem', 'i graniem w te survivale call of duty', 'tęsknię za quattro formaggi z diavolo', 'sentymenty mnie nigdy nie opuszczą', 'rozlewałem wtedy sosy jak pollock', 'i słuchałem bitów z crunkową perkusją', 'młody quebo  w sumie nie zrozumiesz tego', 'mam małego  a rapuję  jakbym miał dużego', 'moja głowa to\\u2005parowar\\u2005albo sarajewo', 'bo ojciec\\u2005głosował na kaczyńskiego  nie wiem  dlaczego \\u2005eh', 'moja była słucha one direction', 'przy poprzedniej potrafiłem nie mieć rok\\u205ferekcji', 'chociaż\\u205fw\\u205fsumie to jest\\u205fsexy nie wierz\\u205fw teksty', 'sam mam fałdy jak te karbowane laysy leo messi', 'jest ode mnie o rękę  kolego', 'ale może tego nie wiedzieć', 'jestem z miasta  gdzie jak dostajesz numer regon', 'to się czujesz tak jak miedwiediew', 'czemu masz ten uśmiech tylko  kiedy trzymasz iphone ', 'te kamienne twarze wokół jak na górze rushmore', 'widzę tylko las rąk  pełen stempli paszport', 'miałem tylko chęci i zrobiłem z tego gazprom', 'malowany dziwak z jakąś wydziaraną mordą', 'też nie czaję fazy  czemu wszyscy o mnie trąbią', 'jak na rosz ha-szana  łak to moja szama', 'sztuki  jak mnie widzą chcą się napierdalać torbą', 'na szczęście ta skromność czasem lubi przysnąć', 'i mogę przycisnąć  wozić się jak rick ross', 'co gdy flesze znikną  ludzie zaczną topnieć', 'pewnie znowu przestanę się martwić płaskostopiem', 'i tym  że się garbię  niech inni się martwią', 'mógłbym dziewczyny zamawiać jak transport  wow', 'ale żyję z polą raksą', 'i gdy piszę o jej piersiach wciskam caps lock a ty', 'czemu masz ten uśmiech tylko  kiedy trzymasz iphone ', 'te kamienne twarze wokół jak na górze rushmore', 'widzę tylko las rąk  pełen stempli paszport', 'miałem tylko chęci i zrobiłem z tego gazprom', 'napój pełen aspartamu  strasznie mi się chciało pić', 'z tobą czuje się jak w raju  jest\\u2005jak\\u2005miało być', 'znowu\\u2005nie wiem  co to miało być', 'to\\u2005jakaś przesada pieprzona', 'puszczę ci lanę  coldplay  jazz  to co chcesz', 'pająk wpadł we własną sieć  ayo muszę cię mieć', 'pijesz aperol  a ja whisky', 'żadnych gierek  chyba że pokerek albo dixit', 'żelki anyżowe no i bananowe chipsy', 'jointy wirujące tak jak frisbee', 'narkotyk miękki jak sofa', 'mam czerwone gały  no bo wpadłaś mi do oka', 'a że miłość raczej ślepa jest jak ja', 'zostań chociaż chwilę na', 'netflix chill  hbo and bone  albo serio film', 'jak chcesz może być nawet fox albo bbc', 'proszę mów  kilka słodkich słów  kilka słodkich chwil', 'wszystko tu oprócz twoich ust  będzie sugar free', 'przecież pasujemy do siebie jak nie wiem dziewczyno peanut butterjelly', 'jak dom i wakacje  pizza z ananaskiem albo te solone pistacje w nutelli', 'znowu na kolacje jemy na kanapie te same co wczoraj płatki śniadaniowe', 'przepraszam  że nie umiem w ładne melodie  zamknąłem cię w klatce piersiowej', 'słonie  lwy i małpy walczą w nas', 'powiedz tym i tamtym to  że tracą\\u2005czas', 'zapytałaś \\u2005kiedy płakałem ostatni\\u2005raz', 'jak przeszedłem the last of us', 'ej \\u2005mam dość kłamstw  dość już rozkmin', 'pływałem kraulem po morzu toksyn', 'łezkę wylałem po związku z roxie', 'mógłbym pośpiewać o winie jak ci chłopcy z moskwy', 'ale nie pamiętam win jak sommelier', 'choć na jeden dobry czyn coś robię źle  aha', 'nie pamiętam win  jestem dobry w byciu złym', 'co jest  małpy  może trochę sorry', 'zbieram skalpy jak pokemony', \"dookoła same post malone'y  u mnie most palony\", 'w mojej głowie tańczy dziki goryl', 'jednego dnia skończyłem i wznowiłem karierę', 'moja dziewczyna głupieje  ciężko wyjść z borderem', 'sam za chwilę ochujeję z tym rollercoasterem', 'co się  co się  co się dzieje  yo', 'mam drogi płaszcz i dres  który zdążył zżółknąć', 'najpierw ją duszę  potem buzi w czółko  mua', 'nie wiem  po co o tym mówię w kółko', 'prosiła  żebym zostawił łóżko', 'kojarzysz ten stary numer jeszcze od the streets', 'gdy poznajesz znaną niunię  co jest tam  gdzie ty', 'wszystko wtedy jest od nowa i znów chce się żyć', 'to dla wszystkich moich ex in peace', 'gdybyście mnie nie rzuciły kiedyś  małpki wstrętne', 'to szczęśliwy bym się przy niej nie obudził pewnie', 'miłość to paliwo i osiąga ceny niezłe', 'stoję w neonowej kamizelce', 'posadziła mnie przed domem tak jak dziką roślinę', 'płonący kominek  koc i bujany fotel', 'mądra książka  herbata\\u2005z\\u2005goździkami  kminek', 'już prawie\\u2005w to uwierzyłem  ale jeszcze trochę', 'jeszcze\\u2005trochę tego pisku  tego wrzasku i braw', 'trochę listów  trochę blasku \\u205floży\\u205fvipów\\u205fi sław', 'trochę ciuchów \\u205fco mi ślecie\\u205fi nie chcecie mieć nic', 'tych barberów bez kolejek  drogie drinki chcę pić', 'za darmo  wbić z ferajną  bramka za mną', 'dama przy mnie  ja za maską jak pies majlo   fajno  fajno   ', 'świece się jak medalion  ale w środku wciąż jak biedak pod lodziarnią  stop', 'na taki paskudny stan i paskudne myśli', 'o karierze i doklejonym uśmiechu za hajs', 'znowu życie  które kusi mnie jak rumpelstilskin', 'da ci wszystko w zamian za to  że ty siebie też dasz', 'siebie też dasz  olejesz te rodzinę i dom', 'zostanie mi tylko stal  beton  cegły i szkło', 'bez dziewczyny obok z głosem młodej celine dion', 'czując  że finał zjebałem tak jak w grze o tron   hmm   ', 'ktoś mi mówił   starych kwiatów lepiej nie przesadzać    nie przesadzać   ', 'męczy mnie ten pęd i sława', 'bawienie fanów trikami  asami z rękawa', 'bardzo cię przepraszam  ale chyba nie chcę wstawać myśląc', 'nie\\u205fchcę o sukach nic słyszeć', 'jestem na jej punkcie serio pojebany', 'bawmy się jak dzieci', 'znowu moje plecy podrapane jak kamienice hawany', 'ciągle głodny wrażeń', 'możemy zajadać się nimi razem', 'spytała mnie co następne mam w planie', 'już nic poza wymyślaniem nowych marzeń', 'ej  mogę już tylko cię kochać', 'nic nie robić  tylko kochać cię', 'w każdym kraju świata niepotrzebna mapa', 'i tak wszędzie czuję się jak locales', 'czarna mokka  jazz  siłownia to seks', 'twoje cudne ciało leczy mi kompleks', 'chciałbym być brzydki i biedny przez dobę', 'a potem poderwać cię znowu i cześć', 'mam dosyć lotniska jak kaaris i booba', 'obok mnie ta pani jak spluwa', 'lecę jej pokazać odessę i tallinn', 'bo znudził nas paryż i dubaj', 'pęcherze na ustach  siniaki na udach', 'godzina i zrobię z niej gejszę', 'wachlarze z pieniędzy  to życie mnie męczy', 'jej dłonie są znacznie cieplejsze', 'mówiłem o nich mojemu terapeucie', 'kiedy nastrój miałem nizinny', 'wracam na górę i jestem w tym silny', 'bałem się  jacy po mnie przyjdą inni', 'nie obchodzi mnie kto stoi za wami  yo', 'sb to moi young money', 'z miasta  w którym się poczujesz wygrany', 'kiedy masz na sobie emporio armani', 'od czasów ciechanowa do vogue to trwało lata', 'najdłuższa droga  jakbym grał w catan', 'żadnego allungare la strada  żadnego bata', 'jeszcze wczoraj stałem z ziomami pod szkołą jak mata', 'byłem przygłupi wtedy  ale już wiedziałem jedno', 'nie przemielą mnie drukarnia bauer i s  a   cedrob', 'chciałem to jebnąć  kilka razy zmienić kurs', 'przypomniałem sobie tp s  a    delitissue', 'peggy sue wyszła za mąż  ten skurwiel ma nos', 'moglibyście dać w tym tygodniku chociaż anons', 'świruję  radeczku  w tym roku się trochę działo', 'fajnie  że nam wieżę ciśnień wyremontowano', 'każdy ma pieniądze w oczach  ja stoję jak charon', 'te pieniądze pachną jak cynamon', 'żałuję tylko  że odrzuciłem boże ciało', 'i że zagrałem sylwestrowy koncert tanio  ale', 'siedzimy w emirates  na jednym z lepszych miejsc', 'może to śmieszny flex', 'dwa telefony w dłoni trzymam tak jak kevin gates', 'chce mi się kochać z nią  jakbym właśnie wyleczył aids', 'siedzimy w emirates  na jednym z lepszych miejsc', 'może to śmieszny flex', 'dwa telefony w dłoni trzymam tak jak kevin gates', 'chce mi się kochać z nią  jakbym właśnie wyleczył aids', 'jetlag to mój nowy drag', 'mogłem już dawno reklamować bank', 'muzykę potraktować tak jak prank', 'nie piję z tym do ciebie  dawid \\u2005bo\\u2005ty jesteś art', 'leci\\u2005 we all try   skurwielu  młody frank \\u2005yo', 'tak tam śpiewał  że na trzy minuty się zmieniłem w geja', 'daj mi jeszcze rok i coachella', 'dzisiaj rano odpaliłem mail od managera', 'odrzuciłem coś za milion tak jak peja i się zbieram', 'niewykluczone jest  że kiedyś tego nie odrzucę', 'bo mam taką fantazję  że pracuję w domu uciech', 'kochanie  jutro zacznę ci liczyć każdą minutę', 'za te buziaki w szyję płacisz mi dwie stówy  super', 'siedzimy w emirates  na jednym z lepszych miejsc', 'może to śmieszny flex', 'dwa telefony w dłoni trzymam tak jak kevin gates', 'chce mi się kochać z nią  jakbym właśnie wyleczył aids', 'siedzimy w emirates  na jednym z lepszych miejsc', 'może to śmieszny flex', 'dwa telefony w dłoni trzymam jak kevin gates', 'chce mi się kochać z nią  jakbym właśnie wyleczył aids', 'jetlag to mój nowy drag', 'z chopina na schiphol  ze schiphol na lax', 'serce rozdarte tak jak boarding pass', 'bez ciebie tanią linią leci czas', 'z tobą jak dom perignon w etihad', 'ale znów jestem sam i to samo od nowa', 'samolot i walizka rimowa', 'najbliższa osoba to steward boeinga', 'chyba nie potrafię z tym wygrać', 'jetlag to mój nowy drag', 'jadę z kyoto do nary \\u2005jadę\\u2005z kyoto do\\u2005tokyo', 'ona ma oksy prady  nie płacz \\u2005mała  bo zmokną', 'jadę z kyoto do nary  dawno nie byłem\\u205fw\\u205fschengen', 'wokół\\u205fkamery robią skany\\u205fjak rentgen', 'jadę z\\u205fnary do kyoto  jadę z kyoto do tokyo', 'ona ma oksy prady  nie płacz  mała  bo zmokną', 'lecę z busan do tianjin  lecę z tianjin do shenzhen', 'ona ma trampki z sercem  słuchamy new romancer', 'znudzili mnie gaudi i eiffel  loty z seulu do taipei', 'każdy wygląda jak hypebeast  każda wygląda jak hypebae', 'mój człowiek skośny jak laufer  dookoła low life i high tech', 'tańczymy po winie  póki nie przeminie to życie jak datpiff i myspace  yo', 'zamawiam bobę i bibimbap  a ona wodę i sticky rice', 'dwa kraje w dobę bez dzikich kart  nie noszę obey  mam inny vibe', 'przez rok nawinąłem te półtora zwrotki  a i tak na koncie jest szybki hajs', 'oni są wczuci w te rapy  ja siadam do pracy  bo zasięg od wi-fi padł', 'mój człowiek ma dziarę family mart  twój drip to jest nie ten level', 'filip zna chiny jak własny kark  świecimy jak neony nad 7-eleven', 'mój człowiek ma dziarę family mart  twój drip to jest nie ten level', 'filip zna chiny      ', 'podrabiasz nas 1 do 1  suko', 'jadę z kyoto do nary  jadę z kyoto do tokyo', 'ona ma oksy prady  nie płacz  mała  bo zmokną', 'jadę z kyoto do nary  dawno nie byłem w schengen', 'wokół kamery robią skany jak rentgen', 'jadę z nary do kyoto  jadę z kyoto do tokyo', 'ona ma oksy prady  nie płacz  mała  bo zmokną', 'lecę z busan do tianjin  lecę z tianjin do shenzhen', 'ona ma trampki z sercem  słuchamy new romancer', 'nikt nie zna mnie jak face id  vpn ziomo  no bo śledzą ip-s', 'cnn znowu opowiada bajki o wojnie  bpmy robią high speed', 'wetransfer  przesyłają nam bit  na paypal potem przelewają hajs mi', 'pytają  czy jestem ciągle głodny', 'bi-bitch  i might be   ', 'widzę  dokąd nas prowadzi neostrada  nigdy nie widziałem tak durnego stada', 'wczoraj chciałem robić spontaniczne ruchy  no ale nagle moja siri mówi  że odradza', 'żebym wydał kasę jakiś neon błaga  neon louis  neon prada', 'polej tylko jeszcze jeden kielon barman  kielon drugi  kielon spadam', 'ona mówi   gdzie idziesz fifi    moje ruchy na cctv', 'orwell uczył więc nic nie zdziwi  dane płyną jak missisipi', 'cywilizacji jeszcze nie koniec  póki takie ciepłe jej dłonie', 'uprawiamy seks  a za oknem de-de-deszcz na neonie', 'ona ma oksy prady  nie płacz  mała  bo zmokną', 'jadę z kyoto do nary  dawno nie byłem w schengen', 'wokół kamery robią skany jak rentgen', 'jadę z nary do kyoto  jadę z kyoto do tokyo', 'ona ma oksy prady  nie płacz  mała  bo zmokną', 'lecę z busan do tianjin  lecę z tianjin do shenzhen', 'ona ma trampki z sercem  słuchamy new romancer', ' ', '', '', '']\n"
          ]
        }
      ]
    },
    {
      "cell_type": "code",
      "source": [
        "# Initialize the Tokenizer class\n",
        "tokenizer = Tokenizer()\n",
        "\n",
        "# Generate the word index dictionary\n",
        "tokenizer.fit_on_texts(corpus)\n",
        "\n",
        "# Define the total words. You add 1 for the index `0` which is just the padding token.\n",
        "total_words = len(tokenizer.word_index) + 1\n",
        "\n",
        "print(f'word index dictionary: {tokenizer.word_index}')\n",
        "print(f'total words: {total_words}')"
      ],
      "metadata": {
        "colab": {
          "base_uri": "https://localhost:8080/"
        },
        "id": "cUD_jE9b79Fo",
        "outputId": "3e9263f5-b4e2-4cbd-f342-bc471b0e7f5f"
      },
      "execution_count": null,
      "outputs": [
        {
          "output_type": "stream",
          "name": "stdout",
          "text": [
            "word index dictionary: {'jak': 1, 'w': 2, 'nie': 3, 'i': 4, 'z': 5, 'na': 6, 'to': 7, 'się': 8, 'za': 9, 'do': 10, 'tak': 11, 'mnie': 12, 'jest': 13, 'co': 14, 'ale': 15, 'że': 16, 'a': 17, 'mi': 18, 'bo': 19, 'ten': 20, 'tylko': 21, 'ja': 22, 'mam': 23, 'ma': 24, 'po': 25, 'tym': 26, 'jestem': 27, 'te': 28, 'już': 29, 'bez': 30, 'o': 31, 'ona': 32, 'kyoto': 33, 'może': 34, 'jadę': 35, 'jej': 36, 'tego': 37, 'wiem': 38, 'mój': 39, 'moja': 40, 'od': 41, 'tęsknię': 42, 'też': 43, 'rok': 44, 'no': 45, 'jeszcze': 46, 'są': 47, 'chcę': 48, 'trochę': 49, 'pop': 50, 'dawno': 51, 'albo': 52, 'chce': 53, 'ci': 54, 'kochać': 55, 'jakbym': 56, 'mogę': 57, 'które': 58, 'nic': 59, 'kiedy': 60, 'znowu': 61, 'cię': 62, 'lecę': 63, 'nary': 64, 'nowy': 65, 'czuję': 66, 'nawet': 67, 'sobie': 68, 'być': 69, 'chyba': 70, 'czemu': 71, 'nas': 72, 'oksy': 73, 'prady': 74, 'płacz': 75, 'zmokną': 76, 'tianjin': 77, 'ej': 78, 'dłoni': 79, 'życie': 80, 'niech': 81, 'niż': 82, 'ty': 83, 'każdy': 84, 'miałem': 85, 'nią': 86, 'gdzie': 87, 'wokół': 88, 'sam': 89, 'pewnie': 90, 'płaczę': 91, 'miejsc': 92, 'dwa': 93, 'mała': 94, 'moim': 95, 'dla': 96, 'więc': 97, 'rzeczy': 98, 'wczoraj': 99, 'moje': 100, 'życia': 101, 'gdy': 102, 'której': 103, 'mógłbym': 104, 'popu': 105, 'byłem': 106, 'masz': 107, 'wszystko': 108, 'de': 109, 'źle': 110, 'przy': 111, 'czym': 112, 'jetlag': 113, 'drag': 114, 'czego': 115, 'ciągle': 116, 'mieć': 117, 'chociaż': 118, 'dziewczyna': 119, 'hajs': 120, 'szok': 121, 'rapera': 122, 'gwiazdę': 123, 'ją': 124, 'widzę': 125, 'yo': 126, 'neon': 127, 'tobą': 128, 'wtedy': 129, 'wygląda': 130, 'siedzimy': 131, 'emirates': 132, 'jednym': 133, 'lepszych': 134, 'śmieszny': 135, 'flex': 136, 'telefony': 137, 'trzymam': 138, 'kevin': 139, 'gates': 140, 'właśnie': 141, 'wyleczył': 142, 'aids': 143, 'robią': 144, 'tokyo': 145, 'myśli': 146, 'las': 147, 'ciebie': 148, 'nowa': 149, 'serio': 150, 'wolę': 151, 'twoich': 152, 'twarze': 153, 'widziałem': 154, 'filip': 155, 'skończyłem': 156, 'chciałem': 157, 'wszędzie': 158, 'górze': 159, 'później': 160, 'aż': 161, 'aha': 162, 'była': 163, 'żeby': 164, 'choć': 165, 'jebać': 166, 'młody': 167, 'nigdy': 168, 'muszę': 169, 'dłonie': 170, 'takie': 171, 'przed': 172, 'coś': 173, 'piękne': 174, 'ludzie': 175, 'ta': 176, 'twój': 177, 'nastrój': 178, 'głowie': 179, 'głodny': 180, 'żebym': 181, 'lepiej': 182, 'notre': 183, 'dame': 184, 'leci': 185, 'mojej': 186, 'klatce': 187, 'stary': 188, 'dobry': 189, 'sumie': 190, 'nowe': 191, 'mówi': 192, 'pod': 193, 'moi': 194, 'zarazić': 195, 'razie': 196, 'domu': 197, 'chcesz': 198, 'pić': 199, 'tęskniłem': 200, 'dziewczyny': 201, 'przez': 202, 'kiedyś': 203, 'tam': 204, 'pełen': 205, 'kilka': 206, 'siebie': 207, 'dom': 208, 'potem': 209, 's': 210, 'rentgen': 211, 'busan': 212, 'shenzhen': 213, 'trampki': 214, 'sercem': 215, 'słuchamy': 216, 'new': 217, 'romancer': 218, 'człowiek': 219, 'zna': 220, 'kielon': 221, 'ładne': 222, 'bit': 223, 'somy': 224, 'siedzę': 225, 'twoje': 226, 'stop': 227, 'przeszedłem': 228, 'kark': 229, 'inne': 230, 'kurwa': 231, 'dzieje': 232, 'okej': 233, 'głód': 234, 'śpiewać': 235, 'lustro': 236, 'pusty': 237, 'fotel': 238, 'dać': 239, 'będą': 240, 'dziką': 241, 'samochód': 242, 'nocą': 243, 'którym': 244, 'jutro': 245, 'który': 246, 'nadal': 247, 'szczęście': 248, 'leczy': 249, 'mamy': 250, 'teksty': 251, 'nich': 252, 'ze': 253, 'smutek': 254, 'branży': 255, 'sprzedać': 256, 'pokazać': 257, 'wow': 258, 'chodzę': 259, 'sława': 260, 'mama': 261, 'mówiła': 262, 'jesteś': 263, 'znam': 264, 'których': 265, 'wrócić': 266, 'mówię': 267, 'sprawia': 268, 'ciepłe': 269, 'końcu': 270, 'najgorszy': 271, 'wasze': 272, 'toksyn': 273, 'chłopcy': 274, 'czarna': 275, 'street': 276, 'także': 277, 'bym': 278, 'gdybym': 279, 'bardzo': 280, 'grał': 281, 'mną': 282, 'patrzę': 283, 'malowany': 284, 'oczy': 285, 'u': 286, 'rozumiem': 287, 'naćpany': 288, 'wciąż': 289, 'powiedz': 290, 'moich': 291, 'głowa': 292, 'weź': 293, 'żyję': 294, 'płakałem': 295, 'trzy': 296, 'znasz': 297, 'mac': 298, 'siedzieć': 299, 'chacie': 300, 'morzu': 301, 'bracie': 302, 'mówiłem': 303, 'razy': 304, 'mniej': 305, 'parapapa': 306, 'wyjść': 307, 'ktoś': 308, 'taki': 309, 'głosem': 310, 'chcą': 311, 'proszę': 312, 'myśląc': 313, 'mrok': 314, 'ode': 315, 'mariusz': 316, 'jop': 317, 'łóżko': 318, 'wzrok': 319, 'śpiewa': 320, 'słowo': 321, 'głową': 322, 'raczej': 323, 'chciałbym': 324, 'joł': 325, 'rapem': 326, 'nauczyć': 327, 'blonde': 328, 'pamięć': 329, 'czekam': 330, 'szepnie': 331, 'zdanie': 332, 'starym': 333, 'kanye': 334, 'roku': 335, 'kto': 336, 'dlaczego': 337, 'j': 338, 'słucha': 339, 'droga': 340, 'złym': 341, 'jakiś': 342, 'reklamować': 343, 'bardziej': 344, 'flesze': 345, 'neony': 346, 'tel': 347, 'la': 348, 'paliwo': 349, 'jazdą': 350, 'był': 351, 'każdym': 352, 'tych': 353, 'piątej': 354, 'graniem': 355, 'nikt': 356, 'samo': 357, 'of': 358, 'miasta': 359, 'numer': 360, 'uśmiech': 361, 'trzymasz': 362, 'iphone': 363, 'kamienne': 364, 'rushmore': 365, 'rąk': 366, 'stempli': 367, 'paszport': 368, 'chęci': 369, 'zrobiłem': 370, 'gazprom': 371, 'inni': 372, 'jazz': 373, 'we': 374, 'miłość': 375, 'chwilę': 376, 'słodkich': 377, 'same': 378, 'przepraszam': 379, 'małpy': 380, 'the': 381, 'dość': 382, 'winie': 383, 'pamiętam': 384, 'win': 385, 'jeden': 386, 'zbieram': 387, 'dookoła': 388, 'znów': 389, 'niej': 390, 'stoję': 391, 'fajno': 392, 'dasz': 393, 'obok': 394, 'przesadzać': 395, 'męczy': 396, 'robić': 397, 'seks': 398, 'ciało': 399, 'dobę': 400, 'żadnego': 401, 'nam': 402, 'pieniądze': 403, 'odrzuciłem': 404, 'schiphol': 405, 'high': 406, 'póki': 407, 'dziarę': 408, 'family': 409, 'mart': 410, 'drip': 411, 'level': 412, 'chiny': 413, '1': 414, 'schengen': 415, 'kamery': 416, 'skany': 417, 'ruchy': 418, 'brzydkie': 419, 'domy': 420, 'superbohaterem': 421, 'marvel': 422, 'comics': 423, 'nawiedzony': 424, 'japonii': 425, 'siłę': 426, 'sprawcze': 427, 'magiczne': 428, 'mikrofony': 429, 'przewidziałem': 430, 'diament': 431, 'nową': 432, 'reklamę': 433, 'coli': 434, 'przeglądam': 435, 'staje': 436, 'cyberpunk': 437, 'oldschool': 438, 'atomowy': 439, 'powerbank': 440, 'zginę': 441, 'nadstawię': 442, 'wszystkie': 443, 'zapłacimy': 444, 'mastercard': 445, 'visa': 446, 'czarodziejem': 447, 'rapowałem': 448, 'instastory': 449, 'skoro': 450, 'nawinę': 451, 'zaraz': 452, 'przestaną': 453, 'płonąć': 454, 'lasy': 455, 'amazonii': 456, 'skończy': 457, 'zaraza': 458, 'ubóstwo': 459, 'przywrócę': 460, 'jacquesa': 461, 'cousteau': 462, 'paca': 463, 'whitney': 464, 'houston': 465, 'żebyś': 466, 'pokazała': 467, 'półton': 468, 'wstydzić': 469, 'patrzą': 470, 'twarz': 471, 'pustą': 472, 'omamić': 473, 'bałamutnym': 474, 'ustom': 475, 'głodem': 476, 'ucztą': 477, 'kolor': 478, 'włosów': 479, 'pasuje': 480, 'oczu': 481, 'zazdrości': 482, 'typów': 483, 'chcieliby': 484, 'poczuć': 485, 'ich': 486, 'zielone': 487, 'jedzie': 488, 'biały': 489, 'czerwony': 490, 'kilku': 491, 'kolegów': 492, 'włochów': 493, 'wytłumaczyło': 494, 'oznacza': 495, 'con': 496, 'calma': 497, 'chemii': 498, 'powietrzu': 499, 'cała': 500, 'pokarmach': 501, 'dzieciakom': 502, 'spływa': 503, 'jakieś': 504, 'piekło': 505, 'gardła': 506, 'czuły': 507, 'somalia': 508, 'zmęczyłem': 509, 'patrzeniem': 510, 'wstecz': 511, '2035': 512, 'gram': 513, 'playstation': 514, '6': 515, 'śpiewam': 516, 'słuchawkach': 517, 'fałszywy': 518, 'prorok': 519, 'trasę': 520, 'eko': 521, 'wieczny': 522, 'detoks': 523, 'śmierdzieliśmy': 524, 'groszem': 525, 'przeklęty': 526, 'fetor': 527, 'machał': 528, 'łapą': 529, 'maneki': 530, 'neko': 531, 'poczułem': 532, 'wreszcie': 533, 'miód': 534, 'mleko': 535, 'przyjacielem': 536, 'fuzję': 537, 'grubsze': 538, 'portfele': 539, 'żaluzje': 540, 'odłożyłem': 541, 'kontuzję': 542, 'serca': 543, 'łamałem': 544, 'układać': 545, 'puzzle': 546, 'zakochałem': 547, 'dziewczynie': 548, 'płomieniem': 549, 'beczką': 550, 'prochu': 551, 'gwiazdy': 552, 'teleskopu': 553, 'rady': 554, 'tej': 555, 'autostradzie': 556, 'miały': 557, 'znaki': 558, 'stopu': 559, 'gotów': 560, 'zmyła': 561, 'pochodziła': 562, 'rzeźbi': 563, 'tępym': 564, 'dłutem': 565, 'płytę': 566, 'trzeba': 567, 'dupę': 568, 'jeśli': 569, 'farcik': 570, 'wystarczy': 571, 'sutek': 572, 'która': 573, 'umie': 574, 'łatwo': 575, 'sprzedałem': 576, 'więcej': 577, 'płyt': 578, 'sheeran': 579, 'potrafiąc': 580, 'niebie': 581, 'jedi': 582, 'całą': 583, 'scenę': 584, 'ledach': 585, 'świeci': 586, 'jebane': 587, 'vegas': 588, 'skończyli': 589, 'ostatni': 590, 'nielegal': 591, 'ronald': 592, 'reagan': 593, 'słony': 594, 'cheddar': 595, 'było': 596, 'pigułka': 597, 'rozbisurmaniony': 598, 'małe': 599, 'wyglądały': 600, 'cuda': 601, 'niania': 602, 'miałeś': 603, 'niani': 604, 'kuba': 605, 'wiele': 606, 'opiece': 607, 'miejsca': 608, 'będziemy': 609, 'długo': 610, 'lecieć': 611, 'słodki': 612, 'uśmieszek': 613, 'dulce': 614, 'leche': 615, 'budzić': 616, 'rutynowym': 617, 'świecie': 618, 'kurier': 619, 'przywozi': 620, 'dietę': 621, 'kumpel': 622, 'przynosi': 623, 'becel': 624, 'łzy': 625, 'kapią': 626, 'sweter': 627, 'bukietem': 628, 'jeżeli': 629, 'większą': 630, 'uciechę': 631, 'im': 632, 'uczeszę': 633, 'spalam': 634, 'trenował': 635, 'piekłem': 636, 'przyrzekłem': 637, 'odejść': 638, 'dużo': 639, 'musimy': 640, 'trzymać': 641, 'rączki': 642, 'smutni': 643, 'rosji': 644, 'nienawidzę': 645, 'warszawy': 646, 'lekarzy': 647, 'dorosły': 648, 'jakoś': 649, 'przejdzie': 650, 'wiosny': 651, 'czytam': 652, 'pojebane': 653, 'posty': 654, 'tyle': 655, 'macie': 656, 'gorsze': 657, 'kawa': 658, 'tosty': 659, 'szczeniaku': 660, 'wall': 661, 'wydałem': 662, 'łańcuch': 663, 'książki': 664, 'gdyby': 665, 'zależał': 666, 'forsy': 667, 'czułbym': 668, 'pieniążki': 669, 'cukier': 670, 'potrafi': 671, 'gorzki': 672, 'prezenty': 673, 'wstążki': 674, 'zdechł': 675, 'łykał': 676, 'krążki': 677, 'ból': 678, 'odrosty': 679, 'obrosłem': 680, 'wypadł': 681, 'włos': 682, 'pokryty': 683, 'białą': 684, 'farbą': 685, 'ojciec': 686, 'ojca': 687, 'brando': 688, 'myślałem': 689, 'szambo': 690, 'szczęśliwe': 691, 'rodziny': 692, 'ryją': 693, 'łeb': 694, 'chleb': 695, 'przemian': 696, 'wraca': 697, 'tęsknota': 698, 'gniew': 699, 'działają': 700, 'lek': 701, 'biorę': 702, 'dawki': 703, 'podwójne': 704, 'łykać': 705, 'je': 706, 'komunie': 707, 'pytaj': 708, 'teraz': 709, 'butach': 710, 'koturnie': 711, 'nadchodzi': 712, 'słyszał': 713, 'rapować': 714, 'pisać': 715, 'linie': 716, 'proste': 717, 'linia': 718, 'zazwyczaj': 719, 'przedawkuje': 720, 'szpital': 721, 'radiu': 722, 'tout': 723, 'va': 724, 'bien': 725, 'orelsan': 726, 'brak': 727, 'cenne': 728, 'chcieć': 729, 'lamborghini': 730, 'jetski': 731, 'popatrz': 732, 'piwne': 733, 'oktoberfest': 734, 'tęsknisz': 735, 'avignon': 736, 'brest': 737, 'tle': 738, 'lawendowe': 739, 'pola': 740, 'słońca': 741, 'zanim': 742, 'trafię': 743, \"gaulle'a\": 744, 'spędziłem': 745, 'samolotach': 746, 'pociągach': 747, 'promach': 748, 'myślę': 749, 'dłoniach': 750, 'palcach': 751, 'skroniach': 752, 'lazur': 753, 'piasek': 754, 'życiem': 755, 'pijani': 756, 'skałce': 757, 'odsłonięte': 758, 'ramiona': 759, 'usta': 760, 'pain': 761, 'au': 762, 'chocolat': 763, 'patrzeć': 764, 'szczędź': 765, 'morał': 766, 'bajce': 767, 'pogrzeby': 768, 'tydzień': 769, 'pozwalam': 770, 'widzieć': 771, 'sumienia': 772, 'gryzie': 773, 'uczuć': 774, 'żywię': 775, 'rany': 776, 'którą': 777, 'liżę': 778, 'wstydzę': 779, 'reisefieber': 780, 'quebonafide': 781, 'grzechów': 782, 'popełniłem': 783, 'hotelowym': 784, 'wyrze': 785, 'szczerze': 786, 'łzę': 787, 'uroniłem': 788, 'millerze': 789, 'zawiodłem': 790, 'kolegę': 791, 'braciak': 792, 'poszedł': 793, 'leżałem': 794, 'podłodze': 795, 'skamlałem': 796, 'zwierzę': 797, 'wariacie': 798, 'miłości': 799, 'bezsilności': 800, 'stracie': 801, 'tracę': 802, 'rozum': 803, 'uwięziony': 804, 'pierdolony': 805, 'dozór': 806, 'burzę': 807, 'ciszę': 808, 'komnacie': 809, 'zobaczysz': 810, 'mokrymi': 811, 'polikami': 812, 'lepiącymi': 813, 'łez': 814, 'kocham': 815, 'życiu': 816, 'pięć': 817, 'działa': 818, 'ecstasy': 819, 'lżej': 820, 'szubienica': 821, 'pestycydy': 822, 'broń': 823, 'losie': 824, 'chroń': 825, 'w\\u2005dłoni\\u2005twoją': 826, 'dłoń': 827, 'parapapapapa': 828, 'przecież\\u2005życie': 829, 'wrocław': 830, 'moja\\u2005dama': 831, 'siostra': 832, 'źle\\u205ftu\\u205fzostać': 833, '\\u205fparapapapapa': 834, 'wyłączyć': 835, 'się\\u205fi': 836, 'na\\u205frower': 837, 'jogę': 838, 'głupie': 839, 'cobain': 840, 'night': 841, 'lovell': 842, 'zerwałem': 843, 'stare': 844, 'kwiaty': 845, 'wyrosły': 846, 'umrę': 847, 'wygłosił': 848, 'mowę': 849, 'marcin': 850, 'flint': 851, 'aksamitnym': 852, 'pasją': 853, 'mały': 854, 'dziwny': 855, 'poseł': 856, 'nieszczepione': 857, 'psy': 858, 'zagryźć': 859, 'niosę': 860, 'swój': 861, 'krzyż': 862, 'zła': 863, 'kostucha': 864, 'kosę': 865, 'pijany': 866, 'gapię': 867, 'ścianę': 868, 'żulczyk': 869, 'samobójczy': 870, 'paparazzi': 871, 'poduszką': 872, 'niezasłane': 873, 'przyniesie': 874, 'lala': 875, 'sukces': 876, 'chciałby': 877, 'zabić': 878, 'raperzy': 879, 'fabijański': 880, 'idę': 881, 'biegać': 882, 'pięknym': 883, 'świtem': 884, 'nadwiślańskim': 885, 'przejmować': 886, 'gadają': 887, 'błazny': 888, 'filmie': 889, 'gra': 890, 'rolę': 891, 'urodził': 892, 'zamkniętą': 893, 'zostać': 894, 'aktorem': 895, 'by': 896, 'najrzadziej': 897, 'sobą': 898, 'koledzy': 899, '\\u2005ej': 900, 'chcę\\u2005ją': 901, 'rapem\\u2005': 902, 'drugim': 903, 'pokoju': 904, 'cover': 905, 'ariany': 906, 'odkąd': 907, 'dowiedziałem': 908, 'odszedł': 909, 'doktorów': 910, 'bugs': 911, 'bunny': 912, 'wychodzę': 913, 'przeraża': 914, 'strach': 915, 'lęki': 916, 'najbardziej': 917, 'boję': 918, 'nagrywam': 919, 'dzień': 920, 'przeboje': 921, 'tłumaczę': 922, 'punchline': 923, 'bedoes': 924, 'lil': 925, 'pump': 926, 'beef': 927, 'colem': 928, 'kim': 929, 'moment': 930, 'chwili': 931, 'przyłapałem': 932, 'fugees': 933, 'killing': 934, 'leciał': 935, 'drake': 936, 'eminem': 937, 'hova': 938, 'dilli': 939, 'coraz': 940, 'krótsza': 941, 'prostu': 942, 'typem': 943, 'bad': 944, 'boy': 945, 'ochotę': 946, 'wpaść': 947, 'faktu': 948, 'zrobić': 949, 'charlie': 950, 'hebdo': 951, 'lepią': 952, 'haszysz': 953, 'pieprzone': 954, 'play': 955, 'doh': 956, 'dzwoń': 957, 'damy': 958, 'avon': 959, 'rapie': 960, 'rap': 961, 'dziś': 962, 'zastanawiając': 963, 'buźki': 964, 'chciałyby': 965, 'móc': 966, 'nami': 967, 'jeść': 968, 'spać': 969, 'słuchać': 970, 'jid': 971, 'straciłem': 972, 'twarzy': 973, 'poznaje': 974, 'faceid': 975, 'świecą': 976, 'texas': 977, 'otoczony': 978, 'każdej': 979, 'strony': 980, 'awiw': 981, \"c'est\": 982, 'vie': 983, 'tokio': 984, 'świecącym': 985, 'awiwem': 986, 'białym': 987, 'welon': 988, 'nowym': 989, 'jorkiem': 990, 'deszczowym': 991, 'w\\u2005sumie\\u2005wróciłem': 992, 'dopiero': 993, 'brudną\\u2005antananarywą': 994, 'chcieli': 995, 'oszukać': 996, 'tęsknię\\u2005za': 997, 'pizzą': 998, 'weronie': 999, 'pizą': 1000, 'pewno': 1001, 'wiesz': 1002, 'rygą': 1003, 'nocnym': 1004, 'santiago': 1005, 'limą': 1006, 'stopa': 1007, 'pustynią': 1008, 'tamtej': 1009, 'toyocie': 1010, 'klimą': 1011, 'silnik': 1012, 'głośny': 1013, 'rio': 1014, 'skuterem': 1015, 'wietnam': 1016, 'tą': 1017, 'pierdoloną': 1018, 'zatłoczoną': 1019, 'drogą': 1020, 'zabawa': 1021, 'świetna': 1022, 'kłamię': 1023, 'zły': 1024, 'dałbym': 1025, 'pociąć': 1026, 'przyjmę': 1027, 'kulkę': 1028, 'bubble': 1029, 'tea': 1030, 'nostalgia': 1031, 'błysk': 1032, 'którego': 1033, 'latają': 1034, 'ochoczo': 1035, 'ćmy': 1036, 'my': 1037, 'stertą': 1038, 'rozrzuconych': 1039, 'koszul': 1040, 'rapowaniem': 1041, 'utraty': 1042, 'głosu': 1043, 'spaniem': 1044, 'beztroskim': 1045, 'oglądaniem': 1046, 'pornosów': 1047, 'zamkiem': 1048, 'freestylem': 1049, 'błoniu': 1050, 'jointem': 1051, 'uciekaniem': 1052, 'portfel': 1053, 'musiałem': 1054, 'napocić': 1055, 'bruce': 1056, 'lee': 1057, 'placem': 1058, 'kościuszki': 1059, 'sprzedawaniem': 1060, 'gazet': 1061, 'pierwszą': 1062, 'gażą': 1063, 'odebraną': 1064, 'zpavie': 1065, 'derbami': 1066, 'mławie': 1067, 'łyżką': 1068, 'cukru': 1069, 'kawie': 1070, 'ciechanem': 1071, 'pubie': 1072, 'węglowodanami': 1073, 'plackami': 1074, 'hita': 1075, 'żył': 1076, 'robot': 1077, 'gówniarskiego': 1078, 'jednak': 1079, 'zdrowo': 1080, 'smarki': 1081, 'smarkiem': 1082, 'młoda': 1083, 'foka': 1084, 'musiała': 1085, 'znudzić': 1086, 'poprzednim': 1087, 'logo': 1088, 'reeboka': 1089, 'crossfitowców': 1090, 'ligą': 1091, 'plus': 1092, 'smoka': 1093, 'program': 1094, 'szóstą': 1095, 'odsłoną': 1096, 'pro': 1097, 'evo': 1098, 'soccer': 1099, 'jezu': 1100, 'strzelałem': 1101, 'adriano': 1102, 'pomalowaną': 1103, 'biało': 1104, 'zawsze': 1105, 'podzielonym': 1106, 'cztery': 1107, 'ekranem': 1108, 'survivale': 1109, 'call': 1110, 'duty': 1111, 'quattro': 1112, 'formaggi': 1113, 'diavolo': 1114, 'sentymenty': 1115, 'opuszczą': 1116, 'rozlewałem': 1117, 'sosy': 1118, 'pollock': 1119, 'słuchałem': 1120, 'bitów': 1121, 'crunkową': 1122, 'perkusją': 1123, 'quebo': 1124, 'zrozumiesz': 1125, 'małego': 1126, 'rapuję': 1127, 'miał': 1128, 'dużego': 1129, 'to\\u2005parowar\\u2005albo': 1130, 'sarajewo': 1131, 'ojciec\\u2005głosował': 1132, 'kaczyńskiego': 1133, '\\u2005eh': 1134, 'one': 1135, 'direction': 1136, 'poprzedniej': 1137, 'potrafiłem': 1138, 'rok\\u205ferekcji': 1139, 'chociaż\\u205fw\\u205fsumie': 1140, 'jest\\u205fsexy': 1141, 'wierz\\u205fw': 1142, 'fałdy': 1143, 'karbowane': 1144, 'laysy': 1145, 'leo': 1146, 'messi': 1147, 'rękę': 1148, 'kolego': 1149, 'wiedzieć': 1150, 'dostajesz': 1151, 'regon': 1152, 'czujesz': 1153, 'miedwiediew': 1154, 'dziwak': 1155, 'jakąś': 1156, 'wydziaraną': 1157, 'mordą': 1158, 'czaję': 1159, 'fazy': 1160, 'wszyscy': 1161, 'trąbią': 1162, 'rosz': 1163, 'ha': 1164, 'szana': 1165, 'łak': 1166, 'szama': 1167, 'sztuki': 1168, 'widzą': 1169, 'napierdalać': 1170, 'torbą': 1171, 'skromność': 1172, 'czasem': 1173, 'lubi': 1174, 'przysnąć': 1175, 'przycisnąć': 1176, 'wozić': 1177, 'rick': 1178, 'ross': 1179, 'znikną': 1180, 'zaczną': 1181, 'topnieć': 1182, 'przestanę': 1183, 'martwić': 1184, 'płaskostopiem': 1185, 'garbię': 1186, 'martwią': 1187, 'zamawiać': 1188, 'transport': 1189, 'polą': 1190, 'raksą': 1191, 'piszę': 1192, 'piersiach': 1193, 'wciskam': 1194, 'caps': 1195, 'lock': 1196, 'napój': 1197, 'aspartamu': 1198, 'strasznie': 1199, 'chciało': 1200, 'czuje': 1201, 'raju': 1202, 'jest\\u2005jak\\u2005miało': 1203, 'znowu\\u2005nie': 1204, 'miało': 1205, 'to\\u2005jakaś': 1206, 'przesada': 1207, 'pieprzona': 1208, 'puszczę': 1209, 'lanę': 1210, 'coldplay': 1211, 'pająk': 1212, 'wpadł': 1213, 'własną': 1214, 'sieć': 1215, 'ayo': 1216, 'pijesz': 1217, 'aperol': 1218, 'whisky': 1219, 'żadnych': 1220, 'gierek': 1221, 'pokerek': 1222, 'dixit': 1223, 'żelki': 1224, 'anyżowe': 1225, 'bananowe': 1226, 'chipsy': 1227, 'jointy': 1228, 'wirujące': 1229, 'frisbee': 1230, 'narkotyk': 1231, 'miękki': 1232, 'sofa': 1233, 'czerwone': 1234, 'gały': 1235, 'wpadłaś': 1236, 'oka': 1237, 'ślepa': 1238, 'zostań': 1239, 'netflix': 1240, 'chill': 1241, 'hbo': 1242, 'and': 1243, 'bone': 1244, 'film': 1245, 'fox': 1246, 'bbc': 1247, 'mów': 1248, 'słów': 1249, 'chwil': 1250, 'tu': 1251, 'oprócz': 1252, 'ust': 1253, 'będzie': 1254, 'sugar': 1255, 'free': 1256, 'przecież': 1257, 'pasujemy': 1258, 'dziewczyno': 1259, 'peanut': 1260, 'butterjelly': 1261, 'wakacje': 1262, 'pizza': 1263, 'ananaskiem': 1264, 'solone': 1265, 'pistacje': 1266, 'nutelli': 1267, 'kolacje': 1268, 'jemy': 1269, 'kanapie': 1270, 'płatki': 1271, 'śniadaniowe': 1272, 'umiem': 1273, 'melodie': 1274, 'zamknąłem': 1275, 'piersiowej': 1276, 'słonie': 1277, 'lwy': 1278, 'walczą': 1279, 'tamtym': 1280, 'tracą\\u2005czas': 1281, 'zapytałaś': 1282, '\\u2005kiedy': 1283, 'ostatni\\u2005raz': 1284, 'last': 1285, 'us': 1286, '\\u2005mam': 1287, 'kłamstw': 1288, 'rozkmin': 1289, 'pływałem': 1290, 'kraulem': 1291, 'łezkę': 1292, 'wylałem': 1293, 'związku': 1294, 'roxie': 1295, 'pośpiewać': 1296, 'moskwy': 1297, 'sommelier': 1298, 'czyn': 1299, 'robię': 1300, 'byciu': 1301, 'sorry': 1302, 'skalpy': 1303, 'pokemony': 1304, 'post': 1305, \"malone'y\": 1306, 'most': 1307, 'palony': 1308, 'tańczy': 1309, 'dziki': 1310, 'goryl': 1311, 'jednego': 1312, 'dnia': 1313, 'wznowiłem': 1314, 'karierę': 1315, 'głupieje': 1316, 'ciężko': 1317, 'borderem': 1318, 'ochujeję': 1319, 'rollercoasterem': 1320, 'drogi': 1321, 'płaszcz': 1322, 'dres': 1323, 'zdążył': 1324, 'zżółknąć': 1325, 'najpierw': 1326, 'duszę': 1327, 'buzi': 1328, 'czółko': 1329, 'mua': 1330, 'kółko': 1331, 'prosiła': 1332, 'zostawił': 1333, 'kojarzysz': 1334, 'streets': 1335, 'poznajesz': 1336, 'znaną': 1337, 'niunię': 1338, 'żyć': 1339, 'wszystkich': 1340, 'ex': 1341, 'in': 1342, 'peace': 1343, 'gdybyście': 1344, 'rzuciły': 1345, 'małpki': 1346, 'wstrętne': 1347, 'szczęśliwy': 1348, 'obudził': 1349, 'osiąga': 1350, 'ceny': 1351, 'niezłe': 1352, 'neonowej': 1353, 'kamizelce': 1354, 'posadziła': 1355, 'domem': 1356, 'roślinę': 1357, 'płonący': 1358, 'kominek': 1359, 'koc': 1360, 'bujany': 1361, 'mądra': 1362, 'książka': 1363, 'herbata\\u2005z\\u2005goździkami': 1364, 'kminek': 1365, 'prawie\\u2005w': 1366, 'uwierzyłem': 1367, 'jeszcze\\u2005trochę': 1368, 'pisku': 1369, 'wrzasku': 1370, 'braw': 1371, 'listów': 1372, 'blasku': 1373, '\\u205floży\\u205fvipów\\u205fi': 1374, 'sław': 1375, 'ciuchów': 1376, '\\u205fco': 1377, 'ślecie\\u205fi': 1378, 'chcecie': 1379, 'barberów': 1380, 'kolejek': 1381, 'drogie': 1382, 'drinki': 1383, 'darmo': 1384, 'wbić': 1385, 'ferajną': 1386, 'bramka': 1387, 'dama': 1388, 'maską': 1389, 'pies': 1390, 'majlo': 1391, 'świece': 1392, 'medalion': 1393, 'środku': 1394, 'biedak': 1395, 'lodziarnią': 1396, 'paskudny': 1397, 'stan': 1398, 'paskudne': 1399, 'karierze': 1400, 'doklejonym': 1401, 'uśmiechu': 1402, 'kusi': 1403, 'rumpelstilskin': 1404, 'da': 1405, 'zamian': 1406, 'olejesz': 1407, 'rodzinę': 1408, 'zostanie': 1409, 'stal': 1410, 'beton': 1411, 'cegły': 1412, 'szkło': 1413, 'młodej': 1414, 'celine': 1415, 'dion': 1416, 'czując': 1417, 'finał': 1418, 'zjebałem': 1419, 'grze': 1420, 'tron': 1421, 'hmm': 1422, 'mówił': 1423, 'starych': 1424, 'kwiatów': 1425, 'pęd': 1426, 'bawienie': 1427, 'fanów': 1428, 'trikami': 1429, 'asami': 1430, 'rękawa': 1431, 'wstawać': 1432, 'nie\\u205fchcę': 1433, 'sukach': 1434, 'słyszeć': 1435, 'punkcie': 1436, 'pojebany': 1437, 'bawmy': 1438, 'dzieci': 1439, 'plecy': 1440, 'podrapane': 1441, 'kamienice': 1442, 'hawany': 1443, 'wrażeń': 1444, 'możemy': 1445, 'zajadać': 1446, 'nimi': 1447, 'razem': 1448, 'spytała': 1449, 'następne': 1450, 'planie': 1451, 'poza': 1452, 'wymyślaniem': 1453, 'nowych': 1454, 'marzeń': 1455, 'kraju': 1456, 'świata': 1457, 'niepotrzebna': 1458, 'mapa': 1459, 'locales': 1460, 'mokka': 1461, 'siłownia': 1462, 'cudne': 1463, 'kompleks': 1464, 'brzydki': 1465, 'biedny': 1466, 'poderwać': 1467, 'cześć': 1468, 'dosyć': 1469, 'lotniska': 1470, 'kaaris': 1471, 'booba': 1472, 'pani': 1473, 'spluwa': 1474, 'odessę': 1475, 'tallinn': 1476, 'znudził': 1477, 'paryż': 1478, 'dubaj': 1479, 'pęcherze': 1480, 'ustach': 1481, 'siniaki': 1482, 'udach': 1483, 'godzina': 1484, 'zrobię': 1485, 'gejszę': 1486, 'wachlarze': 1487, 'pieniędzy': 1488, 'znacznie': 1489, 'cieplejsze': 1490, 'mojemu': 1491, 'terapeucie': 1492, 'nizinny': 1493, 'wracam': 1494, 'górę': 1495, 'silny': 1496, 'bałem': 1497, 'jacy': 1498, 'przyjdą': 1499, 'obchodzi': 1500, 'stoi': 1501, 'wami': 1502, 'sb': 1503, 'young': 1504, 'money': 1505, 'poczujesz': 1506, 'wygrany': 1507, 'emporio': 1508, 'armani': 1509, 'czasów': 1510, 'ciechanowa': 1511, 'vogue': 1512, 'trwało': 1513, 'lata': 1514, 'najdłuższa': 1515, 'catan': 1516, 'allungare': 1517, 'strada': 1518, 'bata': 1519, 'stałem': 1520, 'ziomami': 1521, 'szkołą': 1522, 'mata': 1523, 'przygłupi': 1524, 'wiedziałem': 1525, 'jedno': 1526, 'przemielą': 1527, 'drukarnia': 1528, 'bauer': 1529, 'cedrob': 1530, 'jebnąć': 1531, 'zmienić': 1532, 'kurs': 1533, 'przypomniałem': 1534, 'tp': 1535, 'delitissue': 1536, 'peggy': 1537, 'sue': 1538, 'wyszła': 1539, 'mąż': 1540, 'skurwiel': 1541, 'nos': 1542, 'moglibyście': 1543, 'tygodniku': 1544, 'anons': 1545, 'świruję': 1546, 'radeczku': 1547, 'działo': 1548, 'fajnie': 1549, 'wieżę': 1550, 'ciśnień': 1551, 'wyremontowano': 1552, 'oczach': 1553, 'charon': 1554, 'pachną': 1555, 'cynamon': 1556, 'żałuję': 1557, 'boże': 1558, 'zagrałem': 1559, 'sylwestrowy': 1560, 'koncert': 1561, 'tanio': 1562, 'mogłem': 1563, 'bank': 1564, 'muzykę': 1565, 'potraktować': 1566, 'prank': 1567, 'piję': 1568, 'dawid': 1569, '\\u2005bo\\u2005ty': 1570, 'art': 1571, 'leci\\u2005': 1572, 'all': 1573, 'try': 1574, 'skurwielu': 1575, 'frank': 1576, '\\u2005yo': 1577, 'śpiewał': 1578, 'minuty': 1579, 'zmieniłem': 1580, 'geja': 1581, 'daj': 1582, 'coachella': 1583, 'dzisiaj': 1584, 'rano': 1585, 'odpaliłem': 1586, 'mail': 1587, 'managera': 1588, 'milion': 1589, 'peja': 1590, 'niewykluczone': 1591, 'odrzucę': 1592, 'taką': 1593, 'fantazję': 1594, 'pracuję': 1595, 'uciech': 1596, 'kochanie': 1597, 'zacznę': 1598, 'liczyć': 1599, 'każdą': 1600, 'minutę': 1601, 'buziaki': 1602, 'szyję': 1603, 'płacisz': 1604, 'dwie': 1605, 'stówy': 1606, 'super': 1607, 'chopina': 1608, 'lax': 1609, 'serce': 1610, 'rozdarte': 1611, 'boarding': 1612, 'pass': 1613, 'tanią': 1614, 'linią': 1615, 'czas': 1616, 'perignon': 1617, 'etihad': 1618, 'samolot': 1619, 'walizka': 1620, 'rimowa': 1621, 'najbliższa': 1622, 'osoba': 1623, 'steward': 1624, 'boeinga': 1625, 'potrafię': 1626, 'wygrać': 1627, '\\u2005jadę\\u2005z': 1628, 'do\\u2005tokyo': 1629, '\\u2005mała': 1630, 'byłem\\u205fw\\u205fschengen': 1631, 'wokół\\u205fkamery': 1632, 'skany\\u205fjak': 1633, 'z\\u205fnary': 1634, 'znudzili': 1635, 'gaudi': 1636, 'eiffel': 1637, 'loty': 1638, 'seulu': 1639, 'taipei': 1640, 'hypebeast': 1641, 'każda': 1642, 'hypebae': 1643, 'skośny': 1644, 'laufer': 1645, 'low': 1646, 'life': 1647, 'tech': 1648, 'tańczymy': 1649, 'przeminie': 1650, 'datpiff': 1651, 'myspace': 1652, 'zamawiam': 1653, 'bobę': 1654, 'bibimbap': 1655, 'wodę': 1656, 'sticky': 1657, 'rice': 1658, 'kraje': 1659, 'dzikich': 1660, 'kart': 1661, 'noszę': 1662, 'obey': 1663, 'inny': 1664, 'vibe': 1665, 'nawinąłem': 1666, 'półtora': 1667, 'zwrotki': 1668, 'koncie': 1669, 'szybki': 1670, 'oni': 1671, 'wczuci': 1672, 'rapy': 1673, 'siadam': 1674, 'pracy': 1675, 'zasięg': 1676, 'wi': 1677, 'fi': 1678, 'padł': 1679, 'własny': 1680, 'świecimy': 1681, 'nad': 1682, '7': 1683, 'eleven': 1684, 'podrabiasz': 1685, 'suko': 1686, 'face': 1687, 'id': 1688, 'vpn': 1689, 'ziomo': 1690, 'śledzą': 1691, 'ip': 1692, 'cnn': 1693, 'opowiada': 1694, 'bajki': 1695, 'wojnie': 1696, 'bpmy': 1697, 'speed': 1698, 'wetransfer': 1699, 'przesyłają': 1700, 'paypal': 1701, 'przelewają': 1702, 'pytają': 1703, 'czy': 1704, 'bi': 1705, 'bitch': 1706, 'might': 1707, 'be': 1708, 'dokąd': 1709, 'prowadzi': 1710, 'neostrada': 1711, 'durnego': 1712, 'stada': 1713, 'spontaniczne': 1714, 'nagle': 1715, 'siri': 1716, 'odradza': 1717, 'wydał': 1718, 'kasę': 1719, 'błaga': 1720, 'louis': 1721, 'prada': 1722, 'polej': 1723, 'barman': 1724, 'drugi': 1725, 'spadam': 1726, 'idziesz': 1727, 'fifi': 1728, 'cctv': 1729, 'orwell': 1730, 'uczył': 1731, 'zdziwi': 1732, 'dane': 1733, 'płyną': 1734, 'missisipi': 1735, 'cywilizacji': 1736, 'koniec': 1737, 'uprawiamy': 1738, 'oknem': 1739, 'deszcz': 1740, 'neonie': 1741}\n",
            "total words: 1742\n"
          ]
        }
      ]
    },
    {
      "cell_type": "code",
      "source": [
        "# Initialize the sequences list\n",
        "input_sequences = []\n",
        "\n",
        "# Loop over every line\n",
        "for line in corpus:\n",
        "\n",
        "\t# Tokenize the current line\n",
        "\ttoken_list = tokenizer.texts_to_sequences([line])[0]\n",
        "\n",
        "\t# Loop over the line several times to generate the subphrases\n",
        "\tfor i in range(1, len(token_list)):\n",
        "\t\t\n",
        "\t\t# Generate the subphrase\n",
        "\t\tn_gram_sequence = token_list[:i+1]\n",
        "\n",
        "\t\t# Append the subphrase to the sequences list\n",
        "\t\tinput_sequences.append(n_gram_sequence)\n",
        "\n",
        "# Get the length of the longest line\n",
        "max_sequence_len = max([len(x) for x in input_sequences])\n",
        "\n",
        "# Pad all sequences\n",
        "input_sequences = np.array(pad_sequences(input_sequences, maxlen=max_sequence_len, padding='pre'))\n",
        "\n",
        "# Create inputs and label by splitting the last token in the subphrases\n",
        "xs, labels = input_sequences[:,:-1],input_sequences[:,-1]\n",
        "\n",
        "# Convert the label into one-hot arrays\n",
        "ys = tf.keras.utils.to_categorical(labels, num_classes=total_words)"
      ],
      "metadata": {
        "id": "1-gSTI2a8Bc_"
      },
      "execution_count": null,
      "outputs": []
    },
    {
      "cell_type": "code",
      "source": [
        "# Get sample sentence\n",
        "sentence = corpus[0].split()\n",
        "print(f'sample sentence: {sentence}')\n",
        "\n",
        "# Initialize token list\n",
        "token_list = []\n",
        "\n",
        "# Look up the indices of each word and append to the list\n",
        "for word in sentence: \n",
        "  token_list.append(tokenizer.word_index[word])\n",
        "\n",
        "# Print the token list\n",
        "print(token_list)"
      ],
      "metadata": {
        "colab": {
          "base_uri": "https://localhost:8080/"
        },
        "id": "FUcXGnwx8D7H",
        "outputId": "941611bf-7a49-4216-fca2-687567ca1f77"
      },
      "execution_count": null,
      "outputs": [
        {
          "output_type": "stream",
          "name": "stdout",
          "text": [
            "sample sentence: ['brzydkie', 'myśli', 'ładne', 'domy']\n",
            "[419, 146, 222, 420]\n"
          ]
        }
      ]
    },
    {
      "cell_type": "code",
      "source": [
        "# Pick element\n",
        "elem_number = 5\n",
        "\n",
        "# Print token list and phrase\n",
        "print(f'token list: {xs[elem_number]}')\n",
        "print(f'decoded to text: {tokenizer.sequences_to_texts([xs[elem_number]])}')\n",
        "\n",
        "# Print label\n",
        "print(f'one-hot label: {ys[elem_number]}')\n",
        "print(f'index of label: {np.argmax(ys[elem_number])}')"
      ],
      "metadata": {
        "colab": {
          "base_uri": "https://localhost:8080/"
        },
        "id": "7vZXC-x48Glr",
        "outputId": "33436ab3-e2ca-4a3c-8aac-cd3fefd5c5f6"
      },
      "execution_count": null,
      "outputs": [
        {
          "output_type": "stream",
          "name": "stdout",
          "text": [
            "token list: [  0   0   0   0   0   0   0   0   0   0   0   0  27 421   7]\n",
            "decoded to text: ['jestem superbohaterem to']\n",
            "one-hot label: [0. 0. 0. ... 0. 0. 0.]\n",
            "index of label: 3\n"
          ]
        }
      ]
    },
    {
      "cell_type": "markdown",
      "source": [],
      "metadata": {
        "id": "oxIbmuVO8kwb"
      }
    },
    {
      "cell_type": "code",
      "source": [
        "# Hyperparameters\n",
        "embedding_dim = 1000\n",
        "lstm_units = 100\n",
        "learning_rate = 0.02\n",
        "\n",
        "# Build the model\n",
        "model = Sequential([\n",
        "          Embedding(total_words, embedding_dim, input_length=max_sequence_len-1),\n",
        "          Bidirectional(LSTM(lstm_units)),\n",
        "          Dense(total_words, activation='softmax')\n",
        "])\n",
        "\n",
        "# Use categorical crossentropy because this is a multi-class problem\n",
        "model.compile(\n",
        "    loss='categorical_crossentropy', \n",
        "    optimizer=tf.keras.optimizers.Adam(learning_rate=learning_rate), \n",
        "    metrics=['accuracy']\n",
        "    )\n",
        "\n",
        "# Print the model summary\n",
        "model.summary()"
      ],
      "metadata": {
        "colab": {
          "base_uri": "https://localhost:8080/"
        },
        "id": "9jG1hpcO8Jdr",
        "outputId": "b74c74f8-7471-4768-ad8b-cc6c296979ba"
      },
      "execution_count": null,
      "outputs": [
        {
          "output_type": "stream",
          "name": "stdout",
          "text": [
            "Model: \"sequential\"\n",
            "_________________________________________________________________\n",
            " Layer (type)                Output Shape              Param #   \n",
            "=================================================================\n",
            " embedding (Embedding)       (None, 15, 1000)          1742000   \n",
            "                                                                 \n",
            " bidirectional (Bidirectiona  (None, 200)              880800    \n",
            " l)                                                              \n",
            "                                                                 \n",
            " dense (Dense)               (None, 1742)              350142    \n",
            "                                                                 \n",
            "=================================================================\n",
            "Total params: 2,972,942\n",
            "Trainable params: 2,972,942\n",
            "Non-trainable params: 0\n",
            "_________________________________________________________________\n"
          ]
        }
      ]
    },
    {
      "cell_type": "code",
      "source": [
        "epochs = 100\n",
        "\n",
        "# Train the model\n",
        "history = model.fit(xs, ys, epochs=epochs)"
      ],
      "metadata": {
        "colab": {
          "base_uri": "https://localhost:8080/"
        },
        "id": "MAXSffb88MLb",
        "outputId": "1038edd4-1416-447d-ca2b-6b9a70275df3"
      },
      "execution_count": null,
      "outputs": [
        {
          "output_type": "stream",
          "name": "stdout",
          "text": [
            "Epoch 1/100\n",
            "100/100 [==============================] - 16s 121ms/step - loss: 7.2241 - accuracy: 0.0317\n",
            "Epoch 2/100\n",
            "100/100 [==============================] - 12s 120ms/step - loss: 6.1122 - accuracy: 0.0859\n",
            "Epoch 3/100\n",
            "100/100 [==============================] - 13s 130ms/step - loss: 5.4070 - accuracy: 0.1270\n",
            "Epoch 4/100\n",
            "100/100 [==============================] - 12s 120ms/step - loss: 4.7029 - accuracy: 0.1605\n",
            "Epoch 5/100\n",
            "100/100 [==============================] - 12s 119ms/step - loss: 4.1345 - accuracy: 0.1997\n",
            "Epoch 6/100\n",
            "100/100 [==============================] - 12s 119ms/step - loss: 3.6703 - accuracy: 0.2536\n",
            "Epoch 7/100\n",
            "100/100 [==============================] - 12s 121ms/step - loss: 3.3336 - accuracy: 0.2897\n",
            "Epoch 8/100\n",
            "100/100 [==============================] - 12s 119ms/step - loss: 2.9530 - accuracy: 0.3583\n",
            "Epoch 9/100\n",
            "100/100 [==============================] - 12s 120ms/step - loss: 2.6890 - accuracy: 0.4000\n",
            "Epoch 10/100\n",
            "100/100 [==============================] - 12s 119ms/step - loss: 2.9350 - accuracy: 0.3743\n",
            "Epoch 11/100\n",
            "100/100 [==============================] - 12s 119ms/step - loss: 3.0714 - accuracy: 0.3524\n",
            "Epoch 12/100\n",
            "100/100 [==============================] - 12s 120ms/step - loss: 3.0659 - accuracy: 0.3618\n",
            "Epoch 13/100\n",
            "100/100 [==============================] - 12s 119ms/step - loss: 2.7465 - accuracy: 0.4210\n",
            "Epoch 14/100\n",
            "100/100 [==============================] - 12s 118ms/step - loss: 2.4413 - accuracy: 0.4539\n",
            "Epoch 15/100\n",
            "100/100 [==============================] - 12s 120ms/step - loss: 2.1369 - accuracy: 0.5276\n",
            "Epoch 16/100\n",
            "100/100 [==============================] - 12s 119ms/step - loss: 2.0040 - accuracy: 0.5417\n",
            "Epoch 17/100\n",
            "100/100 [==============================] - 13s 131ms/step - loss: 1.7736 - accuracy: 0.5862\n",
            "Epoch 18/100\n",
            "100/100 [==============================] - 12s 118ms/step - loss: 1.5829 - accuracy: 0.6113\n",
            "Epoch 19/100\n",
            "100/100 [==============================] - 12s 119ms/step - loss: 1.6533 - accuracy: 0.6060\n",
            "Epoch 20/100\n",
            "100/100 [==============================] - 12s 119ms/step - loss: 1.5810 - accuracy: 0.6172\n",
            "Epoch 21/100\n",
            "100/100 [==============================] - 12s 119ms/step - loss: 1.4322 - accuracy: 0.6498\n",
            "Epoch 22/100\n",
            "100/100 [==============================] - 12s 118ms/step - loss: 1.2840 - accuracy: 0.6893\n",
            "Epoch 23/100\n",
            "100/100 [==============================] - 12s 119ms/step - loss: 1.2044 - accuracy: 0.6956\n",
            "Epoch 24/100\n",
            "100/100 [==============================] - 12s 119ms/step - loss: 1.2038 - accuracy: 0.7056\n",
            "Epoch 25/100\n",
            "100/100 [==============================] - 12s 119ms/step - loss: 1.1412 - accuracy: 0.7201\n",
            "Epoch 26/100\n",
            "100/100 [==============================] - 12s 120ms/step - loss: 1.0638 - accuracy: 0.7411\n",
            "Epoch 27/100\n",
            "100/100 [==============================] - 12s 120ms/step - loss: 1.0340 - accuracy: 0.7524\n",
            "Epoch 28/100\n",
            "100/100 [==============================] - 12s 118ms/step - loss: 1.0196 - accuracy: 0.7436\n",
            "Epoch 29/100\n",
            "100/100 [==============================] - 12s 120ms/step - loss: 1.0127 - accuracy: 0.7395\n",
            "Epoch 30/100\n",
            "100/100 [==============================] - 12s 119ms/step - loss: 1.0918 - accuracy: 0.7204\n",
            "Epoch 31/100\n",
            "100/100 [==============================] - 12s 120ms/step - loss: 1.2489 - accuracy: 0.6940\n",
            "Epoch 32/100\n",
            "100/100 [==============================] - 12s 120ms/step - loss: 1.3851 - accuracy: 0.6674\n",
            "Epoch 33/100\n",
            "100/100 [==============================] - 12s 120ms/step - loss: 1.3675 - accuracy: 0.6636\n",
            "Epoch 34/100\n",
            "100/100 [==============================] - 12s 119ms/step - loss: 1.3827 - accuracy: 0.6702\n",
            "Epoch 35/100\n",
            "100/100 [==============================] - 13s 128ms/step - loss: 1.5143 - accuracy: 0.6445\n",
            "Epoch 36/100\n",
            "100/100 [==============================] - 12s 119ms/step - loss: 1.5304 - accuracy: 0.6464\n",
            "Epoch 37/100\n",
            "100/100 [==============================] - 12s 120ms/step - loss: 1.5510 - accuracy: 0.6379\n",
            "Epoch 38/100\n",
            "100/100 [==============================] - 12s 120ms/step - loss: 1.5199 - accuracy: 0.6464\n",
            "Epoch 39/100\n",
            "100/100 [==============================] - 12s 120ms/step - loss: 1.3993 - accuracy: 0.6674\n",
            "Epoch 40/100\n",
            "100/100 [==============================] - 12s 119ms/step - loss: 1.2636 - accuracy: 0.6991\n",
            "Epoch 41/100\n",
            "100/100 [==============================] - 12s 119ms/step - loss: 1.1963 - accuracy: 0.7034\n",
            "Epoch 42/100\n",
            "100/100 [==============================] - 12s 119ms/step - loss: 1.1540 - accuracy: 0.7091\n",
            "Epoch 43/100\n",
            "100/100 [==============================] - 12s 119ms/step - loss: 1.1290 - accuracy: 0.7204\n",
            "Epoch 44/100\n",
            "100/100 [==============================] - 12s 119ms/step - loss: 1.1293 - accuracy: 0.7219\n",
            "Epoch 45/100\n",
            "100/100 [==============================] - 12s 118ms/step - loss: 1.0876 - accuracy: 0.7317\n",
            "Epoch 46/100\n",
            "100/100 [==============================] - 12s 119ms/step - loss: 1.1911 - accuracy: 0.7113\n",
            "Epoch 47/100\n",
            "100/100 [==============================] - 12s 119ms/step - loss: 1.0520 - accuracy: 0.7458\n",
            "Epoch 48/100\n",
            "100/100 [==============================] - 12s 119ms/step - loss: 1.1041 - accuracy: 0.7229\n",
            "Epoch 49/100\n",
            "100/100 [==============================] - 12s 119ms/step - loss: 1.0415 - accuracy: 0.7379\n",
            "Epoch 50/100\n",
            "100/100 [==============================] - 12s 119ms/step - loss: 1.0085 - accuracy: 0.7596\n",
            "Epoch 51/100\n",
            "100/100 [==============================] - 12s 119ms/step - loss: 0.9978 - accuracy: 0.7646\n",
            "Epoch 52/100\n",
            "100/100 [==============================] - 13s 129ms/step - loss: 0.9183 - accuracy: 0.7715\n",
            "Epoch 53/100\n",
            "100/100 [==============================] - 12s 119ms/step - loss: 0.8697 - accuracy: 0.7840\n",
            "Epoch 54/100\n",
            "100/100 [==============================] - 12s 120ms/step - loss: 0.8747 - accuracy: 0.7925\n",
            "Epoch 55/100\n",
            "100/100 [==============================] - 12s 117ms/step - loss: 0.8902 - accuracy: 0.7887\n",
            "Epoch 56/100\n",
            "100/100 [==============================] - 12s 119ms/step - loss: 0.8682 - accuracy: 0.7922\n",
            "Epoch 57/100\n",
            "100/100 [==============================] - 12s 120ms/step - loss: 0.8611 - accuracy: 0.7871\n",
            "Epoch 58/100\n",
            "100/100 [==============================] - 12s 120ms/step - loss: 0.9423 - accuracy: 0.7759\n",
            "Epoch 59/100\n",
            "100/100 [==============================] - 12s 119ms/step - loss: 0.8899 - accuracy: 0.7856\n",
            "Epoch 60/100\n",
            "100/100 [==============================] - 12s 119ms/step - loss: 0.9447 - accuracy: 0.7671\n",
            "Epoch 61/100\n",
            "100/100 [==============================] - 12s 119ms/step - loss: 0.9484 - accuracy: 0.7661\n",
            "Epoch 62/100\n",
            "100/100 [==============================] - 12s 119ms/step - loss: 0.9948 - accuracy: 0.7680\n",
            "Epoch 63/100\n",
            "100/100 [==============================] - 12s 119ms/step - loss: 0.9469 - accuracy: 0.7746\n",
            "Epoch 64/100\n",
            "100/100 [==============================] - 12s 119ms/step - loss: 0.8189 - accuracy: 0.7987\n",
            "Epoch 65/100\n",
            "100/100 [==============================] - 12s 119ms/step - loss: 0.7569 - accuracy: 0.8150\n",
            "Epoch 66/100\n",
            "100/100 [==============================] - 12s 119ms/step - loss: 0.7258 - accuracy: 0.8160\n",
            "Epoch 67/100\n",
            "100/100 [==============================] - 12s 118ms/step - loss: 0.6986 - accuracy: 0.8304\n",
            "Epoch 68/100\n",
            "100/100 [==============================] - 12s 119ms/step - loss: 0.7248 - accuracy: 0.8251\n",
            "Epoch 69/100\n",
            "100/100 [==============================] - 12s 119ms/step - loss: 0.8163 - accuracy: 0.7978\n",
            "Epoch 70/100\n",
            "100/100 [==============================] - 13s 129ms/step - loss: 0.9215 - accuracy: 0.7746\n",
            "Epoch 71/100\n",
            "100/100 [==============================] - 12s 119ms/step - loss: 1.0751 - accuracy: 0.7379\n",
            "Epoch 72/100\n",
            "100/100 [==============================] - 12s 120ms/step - loss: 1.0850 - accuracy: 0.7389\n",
            "Epoch 73/100\n",
            "100/100 [==============================] - 12s 121ms/step - loss: 1.0702 - accuracy: 0.7464\n",
            "Epoch 74/100\n",
            "100/100 [==============================] - 12s 120ms/step - loss: 1.1449 - accuracy: 0.7248\n",
            "Epoch 75/100\n",
            "100/100 [==============================] - 12s 119ms/step - loss: 1.2662 - accuracy: 0.7185\n",
            "Epoch 76/100\n",
            "100/100 [==============================] - 12s 119ms/step - loss: 1.2702 - accuracy: 0.7125\n",
            "Epoch 77/100\n",
            "100/100 [==============================] - 12s 118ms/step - loss: 1.2788 - accuracy: 0.7066\n",
            "Epoch 78/100\n",
            "100/100 [==============================] - 12s 119ms/step - loss: 1.4502 - accuracy: 0.6828\n",
            "Epoch 79/100\n",
            "100/100 [==============================] - 12s 118ms/step - loss: 1.2940 - accuracy: 0.7072\n",
            "Epoch 80/100\n",
            "100/100 [==============================] - 12s 118ms/step - loss: 1.2502 - accuracy: 0.7147\n",
            "Epoch 81/100\n",
            "100/100 [==============================] - 12s 118ms/step - loss: 1.0738 - accuracy: 0.7480\n",
            "Epoch 82/100\n",
            "100/100 [==============================] - 12s 118ms/step - loss: 0.9694 - accuracy: 0.7677\n",
            "Epoch 83/100\n",
            "100/100 [==============================] - 12s 119ms/step - loss: 0.9505 - accuracy: 0.7809\n",
            "Epoch 84/100\n",
            "100/100 [==============================] - 12s 118ms/step - loss: 0.8613 - accuracy: 0.7994\n",
            "Epoch 85/100\n",
            "100/100 [==============================] - 12s 118ms/step - loss: 0.7817 - accuracy: 0.8166\n",
            "Epoch 86/100\n",
            "100/100 [==============================] - 12s 118ms/step - loss: 0.7626 - accuracy: 0.8320\n",
            "Epoch 87/100\n",
            "100/100 [==============================] - 12s 120ms/step - loss: 0.6892 - accuracy: 0.8329\n",
            "Epoch 88/100\n",
            "100/100 [==============================] - 13s 130ms/step - loss: 0.6325 - accuracy: 0.8486\n",
            "Epoch 89/100\n",
            "100/100 [==============================] - 12s 119ms/step - loss: 0.6043 - accuracy: 0.8599\n",
            "Epoch 90/100\n",
            "100/100 [==============================] - 12s 119ms/step - loss: 0.5786 - accuracy: 0.8639\n",
            "Epoch 91/100\n",
            "100/100 [==============================] - 12s 120ms/step - loss: 0.5603 - accuracy: 0.8730\n",
            "Epoch 92/100\n",
            "100/100 [==============================] - 12s 120ms/step - loss: 0.5088 - accuracy: 0.8865\n",
            "Epoch 93/100\n",
            "100/100 [==============================] - 12s 119ms/step - loss: 0.5069 - accuracy: 0.8887\n",
            "Epoch 94/100\n",
            "100/100 [==============================] - 12s 118ms/step - loss: 0.4704 - accuracy: 0.8940\n",
            "Epoch 95/100\n",
            "100/100 [==============================] - 12s 119ms/step - loss: 0.5005 - accuracy: 0.8959\n",
            "Epoch 96/100\n",
            "100/100 [==============================] - 12s 118ms/step - loss: 0.4751 - accuracy: 0.8950\n",
            "Epoch 97/100\n",
            "100/100 [==============================] - 12s 118ms/step - loss: 0.4817 - accuracy: 0.9013\n",
            "Epoch 98/100\n",
            "100/100 [==============================] - 12s 118ms/step - loss: 0.4672 - accuracy: 0.8991\n",
            "Epoch 99/100\n",
            "100/100 [==============================] - 12s 119ms/step - loss: 0.4821 - accuracy: 0.8947\n",
            "Epoch 100/100\n",
            "100/100 [==============================] - 12s 119ms/step - loss: 0.4569 - accuracy: 0.8981\n"
          ]
        }
      ]
    },
    {
      "cell_type": "code",
      "source": [
        "import matplotlib.pyplot as plt\n",
        "\n",
        "# Plot utility\n",
        "def plot_graphs(history, string):\n",
        "  plt.plot(history.history[string])\n",
        "  plt.xlabel(\"Epochs\")\n",
        "  plt.ylabel(string)\n",
        "  plt.show()\n",
        "\n",
        "# Visualize the accuracy\n",
        "plot_graphs(history, 'accuracy')\n",
        "\n",
        "# Visualize the loss\n",
        "plot_graphs(history, 'loss')"
      ],
      "metadata": {
        "colab": {
          "base_uri": "https://localhost:8080/",
          "height": 541
        },
        "id": "d3UBSBJz8O23",
        "outputId": "c7c76581-c463-4230-9091-2014421579bb"
      },
      "execution_count": null,
      "outputs": [
        {
          "output_type": "display_data",
          "data": {
            "text/plain": [
              "<Figure size 432x288 with 1 Axes>"
            ],
            "image/png": "[encoded data removed]"
          },
          "metadata": {
            "needs_background": "light"
          }
        },
        {
          "output_type": "display_data",
          "data": {
            "text/plain": [
              "<Figure size 432x288 with 1 Axes>"
            ],
            "image/png": "[encoded data removed]"
          },
          "metadata": {
            "needs_background": "light"
          }
        }
      ]
    },
    {
      "cell_type": "markdown",
      "source": [
        "# TU W SEED_TEXT MOZESZ WPISAC SWOJ POCZATEK"
      ],
      "metadata": {
        "id": "iOpIgBfn8gEP"
      }
    },
    {
      "cell_type": "code",
      "source": [
        "# Define seed text\n",
        "seed_text = \"Wjeżdżam na ostro jak habanero Co to jest balet zobaczysz dopiero\"\n",
        "\n",
        "# Define total words to predict\n",
        "next_words = 100\n",
        "\n",
        "# Loop until desired length is reached\n",
        "for _ in range(next_words):\n",
        "\n",
        "\t# Convert the seed text to a token sequence\n",
        "\ttoken_list = tokenizer.texts_to_sequences([seed_text])[0]\n",
        "\n",
        "\t# Pad the sequence\n",
        "\ttoken_list = pad_sequences([token_list], maxlen=max_sequence_len-1, padding='pre')\n",
        "\t\n",
        "\t# Feed to the model and get the probabilities for each index\n",
        "\tprobabilities = model.predict(token_list)\n",
        "\n",
        "\t# Get the index with the highest probability\n",
        "\tpredicted = np.argmax(probabilities, axis=-1)[0]\n",
        "\n",
        "\t# Ignore if index is 0 because that is just the padding.\n",
        "\tif predicted != 0:\n",
        "\t\t\n",
        "\t\t# Look up the word associated with the index. \n",
        "\t\toutput_word = tokenizer.index_word[predicted]\n",
        "\n",
        "\t\t# Combine with the seed text\n",
        "\t\tseed_text += \" \" + output_word\n",
        "\n",
        "# Print the result\t\n",
        "print(seed_text)"
      ],
      "metadata": {
        "colab": {
          "base_uri": "https://localhost:8080/"
        },
        "id": "l746iNio8PpC",
        "outputId": "9a02b32c-cbde-4776-9506-16edd40d144b"
      },
      "execution_count": null,
      "outputs": [
        {
          "output_type": "stream",
          "name": "stdout",
          "text": [
            "1/1 [==============================] - 1s 772ms/step\n",
            "1/1 [==============================] - 0s 21ms/step\n",
            "1/1 [==============================] - 0s 22ms/step\n",
            "1/1 [==============================] - 0s 22ms/step\n",
            "1/1 [==============================] - 0s 19ms/step\n",
            "1/1 [==============================] - 0s 19ms/step\n",
            "1/1 [==============================] - 0s 21ms/step\n",
            "1/1 [==============================] - 0s 23ms/step\n",
            "1/1 [==============================] - 0s 22ms/step\n",
            "1/1 [==============================] - 0s 21ms/step\n",
            "1/1 [==============================] - 0s 20ms/step\n",
            "1/1 [==============================] - 0s 20ms/step\n",
            "1/1 [==============================] - 0s 19ms/step\n",
            "1/1 [==============================] - 0s 20ms/step\n",
            "1/1 [==============================] - 0s 20ms/step\n",
            "1/1 [==============================] - 0s 20ms/step\n",
            "1/1 [==============================] - 0s 21ms/step\n",
            "1/1 [==============================] - 0s 20ms/step\n",
            "1/1 [==============================] - 0s 21ms/step\n",
            "1/1 [==============================] - 0s 19ms/step\n",
            "1/1 [==============================] - 0s 21ms/step\n",
            "1/1 [==============================] - 0s 27ms/step\n",
            "1/1 [==============================] - 0s 21ms/step\n",
            "1/1 [==============================] - 0s 22ms/step\n",
            "1/1 [==============================] - 0s 19ms/step\n",
            "1/1 [==============================] - 0s 20ms/step\n",
            "1/1 [==============================] - 0s 21ms/step\n",
            "1/1 [==============================] - 0s 20ms/step\n",
            "1/1 [==============================] - 0s 22ms/step\n",
            "1/1 [==============================] - 0s 20ms/step\n",
            "1/1 [==============================] - 0s 19ms/step\n",
            "1/1 [==============================] - 0s 20ms/step\n",
            "1/1 [==============================] - 0s 19ms/step\n",
            "1/1 [==============================] - 0s 21ms/step\n",
            "1/1 [==============================] - 0s 21ms/step\n",
            "1/1 [==============================] - 0s 19ms/step\n",
            "1/1 [==============================] - 0s 21ms/step\n",
            "1/1 [==============================] - 0s 21ms/step\n",
            "1/1 [==============================] - 0s 20ms/step\n",
            "1/1 [==============================] - 0s 20ms/step\n",
            "1/1 [==============================] - 0s 36ms/step\n",
            "1/1 [==============================] - 0s 20ms/step\n",
            "1/1 [==============================] - 0s 20ms/step\n",
            "1/1 [==============================] - 0s 20ms/step\n",
            "1/1 [==============================] - 0s 19ms/step\n",
            "1/1 [==============================] - 0s 23ms/step\n",
            "1/1 [==============================] - 0s 21ms/step\n",
            "1/1 [==============================] - 0s 20ms/step\n",
            "1/1 [==============================] - 0s 20ms/step\n",
            "1/1 [==============================] - 0s 23ms/step\n",
            "1/1 [==============================] - 0s 23ms/step\n",
            "1/1 [==============================] - 0s 29ms/step\n",
            "1/1 [==============================] - 0s 24ms/step\n",
            "1/1 [==============================] - 0s 19ms/step\n",
            "1/1 [==============================] - 0s 23ms/step\n",
            "1/1 [==============================] - 0s 21ms/step\n",
            "1/1 [==============================] - 0s 20ms/step\n",
            "1/1 [==============================] - 0s 20ms/step\n",
            "1/1 [==============================] - 0s 21ms/step\n",
            "1/1 [==============================] - 0s 22ms/step\n",
            "1/1 [==============================] - 0s 21ms/step\n",
            "1/1 [==============================] - 0s 20ms/step\n",
            "1/1 [==============================] - 0s 20ms/step\n",
            "1/1 [==============================] - 0s 23ms/step\n",
            "1/1 [==============================] - 0s 20ms/step\n",
            "1/1 [==============================] - 0s 22ms/step\n",
            "1/1 [==============================] - 0s 20ms/step\n",
            "1/1 [==============================] - 0s 23ms/step\n",
            "1/1 [==============================] - 0s 21ms/step\n",
            "1/1 [==============================] - 0s 19ms/step\n",
            "1/1 [==============================] - 0s 21ms/step\n",
            "1/1 [==============================] - 0s 20ms/step\n",
            "1/1 [==============================] - 0s 22ms/step\n",
            "1/1 [==============================] - 0s 27ms/step\n",
            "1/1 [==============================] - 0s 20ms/step\n",
            "1/1 [==============================] - 0s 20ms/step\n",
            "1/1 [==============================] - 0s 21ms/step\n",
            "1/1 [==============================] - 0s 20ms/step\n",
            "1/1 [==============================] - 0s 23ms/step\n",
            "1/1 [==============================] - 0s 22ms/step\n",
            "1/1 [==============================] - 0s 20ms/step\n",
            "1/1 [==============================] - 0s 21ms/step\n",
            "1/1 [==============================] - 0s 19ms/step\n",
            "1/1 [==============================] - 0s 26ms/step\n",
            "1/1 [==============================] - 0s 21ms/step\n",
            "1/1 [==============================] - 0s 20ms/step\n",
            "1/1 [==============================] - 0s 20ms/step\n",
            "1/1 [==============================] - 0s 19ms/step\n",
            "1/1 [==============================] - 0s 21ms/step\n",
            "1/1 [==============================] - 0s 20ms/step\n",
            "1/1 [==============================] - 0s 21ms/step\n",
            "1/1 [==============================] - 0s 28ms/step\n",
            "1/1 [==============================] - 0s 20ms/step\n",
            "1/1 [==============================] - 0s 20ms/step\n",
            "1/1 [==============================] - 0s 19ms/step\n",
            "1/1 [==============================] - 0s 21ms/step\n",
            "1/1 [==============================] - 0s 20ms/step\n",
            "1/1 [==============================] - 0s 21ms/step\n",
            "1/1 [==============================] - 0s 23ms/step\n",
            "1/1 [==============================] - 0s 23ms/step\n",
            "Wjeżdżam na ostro jak habanero Co to jest balet zobaczysz dopiero że mac millerze jak chcesz może być nawet fox albo bbc neon prada poszedł siedzieć następne nagrywam majlo fajno fajno zaczną topnieć yo staje trochę blasku  loży vipów i serio  kiedy przyjmę śpiewać uciekaniem kanye  ej dobry pewnie bym zdechł gdybym łykał fetor awiw głodny serio droga droga obok stan jest przepraszam leo kolego yo życia sarajewo de film tęsknię skany jak rentgen w moje ruchy kamizelce kiedyś robić martwić robić padł głodem oldschool wszędzie mail oprócz padł of raksą of paliwo neon prada kwiaty rzeczy lil anyżowe kwiatów ostatni raz ej skroniach czemu uciechę oka smutek pani smutek linią leci czas niej rapem\n"
          ]
        }
      ]
    },
    {
      "cell_type": "markdown",
      "source": [
        "# TU W SEED_TEXT MOZESZ WPISAC SWOJ POCZATEK"
      ],
      "metadata": {
        "id": "n6WqldpO8WkK"
      }
    },
    {
      "cell_type": "code",
      "source": [
        "# Define seed text\n",
        "seed_text = \"Wjeżdżam na ostro jak habanero Co to jest balet zobaczysz dopiero\"\n",
        "\n",
        "# Define total words to predict\n",
        "next_words = 100\n",
        "\n",
        "# Loop until desired length is reached\n",
        "for _ in range(next_words):\n",
        "\n",
        "\t# Convert the seed text to a token sequence\n",
        "  token_list = tokenizer.texts_to_sequences([seed_text])[0]\n",
        "\n",
        "\t# Pad the sequence\n",
        "  token_list = pad_sequences([token_list], maxlen=max_sequence_len-1, padding='pre')\n",
        "\t\n",
        "\t# Feed to the model and get the probabilities for each index\n",
        "  probabilities = model.predict(token_list)\n",
        "\n",
        "  # Pick a random number from [1,2,3]\n",
        "  choice = np.random.choice([1,2,3])\n",
        "\t\n",
        "  # Sort the probabilities in ascending order \n",
        "  # and get the random choice from the end of the array\n",
        "  predicted = np.argsort(probabilities)[0][-choice]\n",
        "\n",
        "\t# Ignore if index is 0 because that is just the padding.\n",
        "  if predicted != 0:\n",
        "\t\t\n",
        "\t\t# Look up the word associated with the index. \n",
        "\t  output_word = tokenizer.index_word[predicted]\n",
        "\n",
        "\t\t# Combine with the seed text\n",
        "\t  seed_text += \" \" + output_word\n",
        "\n",
        "# Print the result\t\n",
        "print(seed_text)"
      ],
      "metadata": {
        "colab": {
          "base_uri": "https://localhost:8080/"
        },
        "id": "JsgkkQm28TB2",
        "outputId": "d1fec1eb-eb09-4610-f7db-5f07ae9f9179"
      },
      "execution_count": null,
      "outputs": [
        {
          "output_type": "stream",
          "name": "stdout",
          "text": [
            "1/1 [==============================] - 0s 20ms/step\n",
            "1/1 [==============================] - 0s 21ms/step\n",
            "1/1 [==============================] - 0s 20ms/step\n",
            "1/1 [==============================] - 0s 20ms/step\n",
            "1/1 [==============================] - 0s 23ms/step\n",
            "1/1 [==============================] - 0s 21ms/step\n",
            "1/1 [==============================] - 0s 21ms/step\n",
            "1/1 [==============================] - 0s 21ms/step\n",
            "1/1 [==============================] - 0s 21ms/step\n",
            "1/1 [==============================] - 0s 21ms/step\n",
            "1/1 [==============================] - 0s 20ms/step\n",
            "1/1 [==============================] - 0s 24ms/step\n",
            "1/1 [==============================] - 0s 20ms/step\n",
            "1/1 [==============================] - 0s 21ms/step\n",
            "1/1 [==============================] - 0s 21ms/step\n",
            "1/1 [==============================] - 0s 20ms/step\n",
            "1/1 [==============================] - 0s 21ms/step\n",
            "1/1 [==============================] - 0s 29ms/step\n",
            "1/1 [==============================] - 0s 20ms/step\n",
            "1/1 [==============================] - 0s 19ms/step\n",
            "1/1 [==============================] - 0s 25ms/step\n",
            "1/1 [==============================] - 0s 20ms/step\n",
            "1/1 [==============================] - 0s 20ms/step\n",
            "1/1 [==============================] - 0s 21ms/step\n",
            "1/1 [==============================] - 0s 20ms/step\n",
            "1/1 [==============================] - 0s 21ms/step\n",
            "1/1 [==============================] - 0s 20ms/step\n",
            "1/1 [==============================] - 0s 19ms/step\n",
            "1/1 [==============================] - 0s 20ms/step\n",
            "1/1 [==============================] - 0s 22ms/step\n",
            "1/1 [==============================] - 0s 20ms/step\n",
            "1/1 [==============================] - 0s 20ms/step\n",
            "1/1 [==============================] - 0s 19ms/step\n",
            "1/1 [==============================] - 0s 20ms/step\n",
            "1/1 [==============================] - 0s 20ms/step\n",
            "1/1 [==============================] - 0s 20ms/step\n",
            "1/1 [==============================] - 0s 25ms/step\n",
            "1/1 [==============================] - 0s 20ms/step\n",
            "1/1 [==============================] - 0s 19ms/step\n",
            "1/1 [==============================] - 0s 19ms/step\n",
            "1/1 [==============================] - 0s 19ms/step\n",
            "1/1 [==============================] - 0s 20ms/step\n",
            "1/1 [==============================] - 0s 21ms/step\n",
            "1/1 [==============================] - 0s 20ms/step\n",
            "1/1 [==============================] - 0s 19ms/step\n",
            "1/1 [==============================] - 0s 21ms/step\n",
            "1/1 [==============================] - 0s 22ms/step\n",
            "1/1 [==============================] - 0s 24ms/step\n",
            "1/1 [==============================] - 0s 20ms/step\n",
            "1/1 [==============================] - 0s 22ms/step\n",
            "1/1 [==============================] - 0s 29ms/step\n",
            "1/1 [==============================] - 0s 24ms/step\n",
            "1/1 [==============================] - 0s 20ms/step\n",
            "1/1 [==============================] - 0s 22ms/step\n",
            "1/1 [==============================] - 0s 20ms/step\n",
            "1/1 [==============================] - 0s 19ms/step\n",
            "1/1 [==============================] - 0s 19ms/step\n",
            "1/1 [==============================] - 0s 23ms/step\n",
            "1/1 [==============================] - 0s 20ms/step\n",
            "1/1 [==============================] - 0s 19ms/step\n",
            "1/1 [==============================] - 0s 21ms/step\n",
            "1/1 [==============================] - 0s 20ms/step\n",
            "1/1 [==============================] - 0s 20ms/step\n",
            "1/1 [==============================] - 0s 21ms/step\n",
            "1/1 [==============================] - 0s 19ms/step\n",
            "1/1 [==============================] - 0s 20ms/step\n",
            "1/1 [==============================] - 0s 20ms/step\n",
            "1/1 [==============================] - 0s 23ms/step\n",
            "1/1 [==============================] - 0s 21ms/step\n",
            "1/1 [==============================] - 0s 21ms/step\n",
            "1/1 [==============================] - 0s 20ms/step\n",
            "1/1 [==============================] - 0s 19ms/step\n",
            "1/1 [==============================] - 0s 20ms/step\n",
            "1/1 [==============================] - 0s 19ms/step\n",
            "1/1 [==============================] - 0s 21ms/step\n",
            "1/1 [==============================] - 0s 19ms/step\n",
            "1/1 [==============================] - 0s 20ms/step\n",
            "1/1 [==============================] - 0s 21ms/step\n",
            "1/1 [==============================] - 0s 21ms/step\n",
            "1/1 [==============================] - 0s 24ms/step\n",
            "1/1 [==============================] - 0s 22ms/step\n",
            "1/1 [==============================] - 0s 20ms/step\n",
            "1/1 [==============================] - 0s 19ms/step\n",
            "1/1 [==============================] - 0s 20ms/step\n",
            "1/1 [==============================] - 0s 24ms/step\n",
            "1/1 [==============================] - 0s 22ms/step\n",
            "1/1 [==============================] - 0s 20ms/step\n",
            "1/1 [==============================] - 0s 20ms/step\n",
            "1/1 [==============================] - 0s 19ms/step\n",
            "1/1 [==============================] - 0s 20ms/step\n",
            "1/1 [==============================] - 0s 19ms/step\n",
            "1/1 [==============================] - 0s 20ms/step\n",
            "1/1 [==============================] - 0s 21ms/step\n",
            "1/1 [==============================] - 0s 22ms/step\n",
            "1/1 [==============================] - 0s 19ms/step\n",
            "1/1 [==============================] - 0s 19ms/step\n",
            "1/1 [==============================] - 0s 24ms/step\n",
            "1/1 [==============================] - 0s 20ms/step\n",
            "1/1 [==============================] - 0s 24ms/step\n",
            "1/1 [==============================] - 0s 21ms/step\n",
            "Wjeżdżam na ostro jak habanero Co to jest balet zobaczysz dopiero jak neony nad bez to się wznowiłem karierę sprzedać bajki potem geja gdybym koledzy ostatni mówię armani a rzeczy zastanawiając aha wi bbc trzy pogrzeby aids cię mieć rzeczy których oczach nowe będą czuły przeboje serio sosy rutynowym trochę słońca buzi o łyżką nowa visa będą s a słodkich level trzymać magiczne wbić poczujesz wygrany droga jakbym razem jest górze miejsc zabawa polikami neonie drugi samochód mnie żulczyk trasę opowiada freestylem dobry losie weź sam nostalgia chociaż sobie macie znudzić sercem doktorów ej ty jeden bardziej kilka brak rolę maską magiczne mowę wrzasku macie scenę rosz ktoś niebie czemu pustynią\n"
          ]
        }
      ]
    }
  ]
}